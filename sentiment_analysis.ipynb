{
  "nbformat": 4,
  "nbformat_minor": 0,
  "metadata": {
    "colab": {
      "name": "sentiment_analysis.ipynb",
      "provenance": [],
      "collapsed_sections": [],
      "authorship_tag": "ABX9TyPyDQc7wxzz8dIa6Ytz7Vt/",
      "include_colab_link": true
    },
    "kernelspec": {
      "name": "python3",
      "display_name": "Python 3"
    },
    "language_info": {
      "name": "python"
    }
  },
  "cells": [
    {
      "cell_type": "markdown",
      "metadata": {
        "id": "view-in-github",
        "colab_type": "text"
      },
      "source": [
        "<a href=\"https://colab.research.google.com/github/harshmudgil97/sentiment-analysis/blob/main/sentiment_analysis.ipynb\" target=\"_parent\"><img src=\"https://colab.research.google.com/assets/colab-badge.svg\" alt=\"Open In Colab\"/></a>"
      ]
    },
    {
      "cell_type": "code",
      "metadata": {
        "id": "YPdNTyVmxs6W"
      },
      "source": [
        "#Loading the necessary python libraries\n",
        "import numpy as np\n",
        "import pandas as pd\n",
        "import matplotlib.pyplot as plt\n",
        "plt.style.use('ggplot')\n",
        "import seaborn as sns\n",
        "%matplotlib inline"
      ],
      "execution_count": null,
      "outputs": []
    },
    {
      "cell_type": "code",
      "metadata": {
        "colab": {
          "base_uri": "https://localhost:8080/"
        },
        "id": "gvfl5cBMyXnj",
        "outputId": "028e5c61-bea5-4bc1-fa50-e485cb5f5246"
      },
      "source": [
        "from google.colab import drive\n",
        "drive.mount('/content/drive')"
      ],
      "execution_count": null,
      "outputs": [
        {
          "output_type": "stream",
          "name": "stdout",
          "text": [
            "Mounted at /content/drive\n"
          ]
        }
      ]
    },
    {
      "cell_type": "code",
      "metadata": {
        "colab": {
          "base_uri": "https://localhost:8080/"
        },
        "id": "RbUFWl7Zy_Kl",
        "outputId": "185f3adb-1acc-4b18-a4a3-2f15a97a5367"
      },
      "source": [
        "df = pd.read_csv('/content/drive/MyDrive/Colab Notebooks/Module 4: Machine Learning/sentiment analysis/train.csv')"
      ],
      "execution_count": null,
      "outputs": [
        {
          "output_type": "stream",
          "name": "stderr",
          "text": [
            "/usr/local/lib/python3.7/dist-packages/IPython/core/interactiveshell.py:2718: DtypeWarning: Columns (9,10,11,12,13,14) have mixed types.Specify dtype option on import or set low_memory=False.\n",
            "  interactivity=interactivity, compiler=compiler, result=result)\n"
          ]
        }
      ]
    },
    {
      "cell_type": "markdown",
      "metadata": {
        "id": "5Vtge5N7nm0J"
      },
      "source": [
        "# **Primary Inspection**"
      ]
    },
    {
      "cell_type": "code",
      "metadata": {
        "colab": {
          "base_uri": "https://localhost:8080/"
        },
        "id": "yMTV-z_VI1gd",
        "outputId": "d787dd9b-95c6-4b0b-c382-6c70378ca7f6"
      },
      "source": [
        "df.info()"
      ],
      "execution_count": null,
      "outputs": [
        {
          "output_type": "stream",
          "name": "stdout",
          "text": [
            "<class 'pandas.core.frame.DataFrame'>\n",
            "RangeIndex: 252233 entries, 0 to 252232\n",
            "Data columns (total 15 columns):\n",
            " #   Column       Non-Null Count   Dtype  \n",
            "---  ------       --------------   -----  \n",
            " 0   Unnamed: 0   250040 non-null  float64\n",
            " 1   review       250039 non-null  object \n",
            " 2   sentiment    250040 non-null  object \n",
            " 3   Unnamed: 3   295 non-null     object \n",
            " 4   Unnamed: 4   68 non-null      object \n",
            " 5   Unnamed: 5   26 non-null      object \n",
            " 6   Unnamed: 6   16 non-null      object \n",
            " 7   Unnamed: 7   10 non-null      object \n",
            " 8   Unnamed: 8   8 non-null       object \n",
            " 9   Unnamed: 9   4 non-null       object \n",
            " 10  Unnamed: 10  2 non-null       object \n",
            " 11  Unnamed: 11  2 non-null       object \n",
            " 12  Unnamed: 12  1 non-null       object \n",
            " 13  Unnamed: 13  1 non-null       object \n",
            " 14  Unnamed: 14  1 non-null       object \n",
            "dtypes: float64(1), object(14)\n",
            "memory usage: 28.9+ MB\n"
          ]
        }
      ]
    },
    {
      "cell_type": "code",
      "metadata": {
        "colab": {
          "base_uri": "https://localhost:8080/",
          "height": 305
        },
        "id": "mrte-W0VzSgd",
        "outputId": "298b927a-cae2-4aaf-f449-649d0a897074"
      },
      "source": [
        "df.head()"
      ],
      "execution_count": null,
      "outputs": [
        {
          "output_type": "execute_result",
          "data": {
            "text/html": [
              "<div>\n",
              "<style scoped>\n",
              "    .dataframe tbody tr th:only-of-type {\n",
              "        vertical-align: middle;\n",
              "    }\n",
              "\n",
              "    .dataframe tbody tr th {\n",
              "        vertical-align: top;\n",
              "    }\n",
              "\n",
              "    .dataframe thead th {\n",
              "        text-align: right;\n",
              "    }\n",
              "</style>\n",
              "<table border=\"1\" class=\"dataframe\">\n",
              "  <thead>\n",
              "    <tr style=\"text-align: right;\">\n",
              "      <th></th>\n",
              "      <th>Unnamed: 0</th>\n",
              "      <th>review</th>\n",
              "      <th>sentiment</th>\n",
              "      <th>Unnamed: 3</th>\n",
              "      <th>Unnamed: 4</th>\n",
              "      <th>Unnamed: 5</th>\n",
              "      <th>Unnamed: 6</th>\n",
              "      <th>Unnamed: 7</th>\n",
              "      <th>Unnamed: 8</th>\n",
              "      <th>Unnamed: 9</th>\n",
              "      <th>Unnamed: 10</th>\n",
              "      <th>Unnamed: 11</th>\n",
              "      <th>Unnamed: 12</th>\n",
              "      <th>Unnamed: 13</th>\n",
              "      <th>Unnamed: 14</th>\n",
              "    </tr>\n",
              "  </thead>\n",
              "  <tbody>\n",
              "    <tr>\n",
              "      <th>0</th>\n",
              "      <td>0.0</td>\n",
              "      <td>Hakuna Matata. What a wonderful phrase. Hakuna...</td>\n",
              "      <td>positive</td>\n",
              "      <td>NaN</td>\n",
              "      <td>NaN</td>\n",
              "      <td>NaN</td>\n",
              "      <td>NaN</td>\n",
              "      <td>NaN</td>\n",
              "      <td>NaN</td>\n",
              "      <td>NaN</td>\n",
              "      <td>NaN</td>\n",
              "      <td>NaN</td>\n",
              "      <td>NaN</td>\n",
              "      <td>NaN</td>\n",
              "      <td>NaN</td>\n",
              "    </tr>\n",
              "    <tr>\n",
              "      <th>1</th>\n",
              "      <td>1.0</td>\n",
              "      <td>Obviously a second attempt at the Hugh Glass s...</td>\n",
              "      <td>positive</td>\n",
              "      <td>NaN</td>\n",
              "      <td>NaN</td>\n",
              "      <td>NaN</td>\n",
              "      <td>NaN</td>\n",
              "      <td>NaN</td>\n",
              "      <td>NaN</td>\n",
              "      <td>NaN</td>\n",
              "      <td>NaN</td>\n",
              "      <td>NaN</td>\n",
              "      <td>NaN</td>\n",
              "      <td>NaN</td>\n",
              "      <td>NaN</td>\n",
              "    </tr>\n",
              "    <tr>\n",
              "      <th>2</th>\n",
              "      <td>2.0</td>\n",
              "      <td>If some studio head, or person who was ivolved...</td>\n",
              "      <td>negative</td>\n",
              "      <td>NaN</td>\n",
              "      <td>NaN</td>\n",
              "      <td>NaN</td>\n",
              "      <td>NaN</td>\n",
              "      <td>NaN</td>\n",
              "      <td>NaN</td>\n",
              "      <td>NaN</td>\n",
              "      <td>NaN</td>\n",
              "      <td>NaN</td>\n",
              "      <td>NaN</td>\n",
              "      <td>NaN</td>\n",
              "      <td>NaN</td>\n",
              "    </tr>\n",
              "    <tr>\n",
              "      <th>3</th>\n",
              "      <td>3.0</td>\n",
              "      <td>Rocknrolla rocked me big time. I fall for ever...</td>\n",
              "      <td>positive</td>\n",
              "      <td>NaN</td>\n",
              "      <td>NaN</td>\n",
              "      <td>NaN</td>\n",
              "      <td>NaN</td>\n",
              "      <td>NaN</td>\n",
              "      <td>NaN</td>\n",
              "      <td>NaN</td>\n",
              "      <td>NaN</td>\n",
              "      <td>NaN</td>\n",
              "      <td>NaN</td>\n",
              "      <td>NaN</td>\n",
              "      <td>NaN</td>\n",
              "    </tr>\n",
              "    <tr>\n",
              "      <th>4</th>\n",
              "      <td>4.0</td>\n",
              "      <td>Finally, harry potter has a better movie than ...</td>\n",
              "      <td>positive</td>\n",
              "      <td>NaN</td>\n",
              "      <td>NaN</td>\n",
              "      <td>NaN</td>\n",
              "      <td>NaN</td>\n",
              "      <td>NaN</td>\n",
              "      <td>NaN</td>\n",
              "      <td>NaN</td>\n",
              "      <td>NaN</td>\n",
              "      <td>NaN</td>\n",
              "      <td>NaN</td>\n",
              "      <td>NaN</td>\n",
              "      <td>NaN</td>\n",
              "    </tr>\n",
              "  </tbody>\n",
              "</table>\n",
              "</div>"
            ],
            "text/plain": [
              "   Unnamed: 0  ... Unnamed: 14\n",
              "0         0.0  ...         NaN\n",
              "1         1.0  ...         NaN\n",
              "2         2.0  ...         NaN\n",
              "3         3.0  ...         NaN\n",
              "4         4.0  ...         NaN\n",
              "\n",
              "[5 rows x 15 columns]"
            ]
          },
          "metadata": {},
          "execution_count": 5
        }
      ]
    },
    {
      "cell_type": "code",
      "metadata": {
        "colab": {
          "base_uri": "https://localhost:8080/",
          "height": 237
        },
        "id": "GDuo40CjkKkI",
        "outputId": "a555bac2-546d-4918-cfaf-bd2e3d24c06b"
      },
      "source": [
        "df[df['Unnamed: 0'].isnull()].tail()"
      ],
      "execution_count": null,
      "outputs": [
        {
          "output_type": "execute_result",
          "data": {
            "text/html": [
              "<div>\n",
              "<style scoped>\n",
              "    .dataframe tbody tr th:only-of-type {\n",
              "        vertical-align: middle;\n",
              "    }\n",
              "\n",
              "    .dataframe tbody tr th {\n",
              "        vertical-align: top;\n",
              "    }\n",
              "\n",
              "    .dataframe thead th {\n",
              "        text-align: right;\n",
              "    }\n",
              "</style>\n",
              "<table border=\"1\" class=\"dataframe\">\n",
              "  <thead>\n",
              "    <tr style=\"text-align: right;\">\n",
              "      <th></th>\n",
              "      <th>Unnamed: 0</th>\n",
              "      <th>review</th>\n",
              "      <th>sentiment</th>\n",
              "      <th>Unnamed: 3</th>\n",
              "      <th>Unnamed: 4</th>\n",
              "      <th>Unnamed: 5</th>\n",
              "      <th>Unnamed: 6</th>\n",
              "      <th>Unnamed: 7</th>\n",
              "      <th>Unnamed: 8</th>\n",
              "      <th>Unnamed: 9</th>\n",
              "      <th>Unnamed: 10</th>\n",
              "      <th>Unnamed: 11</th>\n",
              "      <th>Unnamed: 12</th>\n",
              "      <th>Unnamed: 13</th>\n",
              "      <th>Unnamed: 14</th>\n",
              "    </tr>\n",
              "  </thead>\n",
              "  <tbody>\n",
              "    <tr>\n",
              "      <th>252228</th>\n",
              "      <td>NaN</td>\n",
              "      <td>NaN</td>\n",
              "      <td>NaN</td>\n",
              "      <td>NaN</td>\n",
              "      <td>NaN</td>\n",
              "      <td>NaN</td>\n",
              "      <td>NaN</td>\n",
              "      <td>NaN</td>\n",
              "      <td>NaN</td>\n",
              "      <td>NaN</td>\n",
              "      <td>NaN</td>\n",
              "      <td>NaN</td>\n",
              "      <td>NaN</td>\n",
              "      <td>NaN</td>\n",
              "      <td>NaN</td>\n",
              "    </tr>\n",
              "    <tr>\n",
              "      <th>252229</th>\n",
              "      <td>NaN</td>\n",
              "      <td>NaN</td>\n",
              "      <td>NaN</td>\n",
              "      <td>NaN</td>\n",
              "      <td>NaN</td>\n",
              "      <td>NaN</td>\n",
              "      <td>NaN</td>\n",
              "      <td>NaN</td>\n",
              "      <td>NaN</td>\n",
              "      <td>NaN</td>\n",
              "      <td>NaN</td>\n",
              "      <td>NaN</td>\n",
              "      <td>NaN</td>\n",
              "      <td>NaN</td>\n",
              "      <td>NaN</td>\n",
              "    </tr>\n",
              "    <tr>\n",
              "      <th>252230</th>\n",
              "      <td>NaN</td>\n",
              "      <td>NaN</td>\n",
              "      <td>NaN</td>\n",
              "      <td>NaN</td>\n",
              "      <td>NaN</td>\n",
              "      <td>NaN</td>\n",
              "      <td>NaN</td>\n",
              "      <td>NaN</td>\n",
              "      <td>NaN</td>\n",
              "      <td>NaN</td>\n",
              "      <td>NaN</td>\n",
              "      <td>NaN</td>\n",
              "      <td>NaN</td>\n",
              "      <td>NaN</td>\n",
              "      <td>NaN</td>\n",
              "    </tr>\n",
              "    <tr>\n",
              "      <th>252231</th>\n",
              "      <td>NaN</td>\n",
              "      <td>NaN</td>\n",
              "      <td>NaN</td>\n",
              "      <td>NaN</td>\n",
              "      <td>NaN</td>\n",
              "      <td>NaN</td>\n",
              "      <td>NaN</td>\n",
              "      <td>NaN</td>\n",
              "      <td>NaN</td>\n",
              "      <td>NaN</td>\n",
              "      <td>NaN</td>\n",
              "      <td>NaN</td>\n",
              "      <td>NaN</td>\n",
              "      <td>NaN</td>\n",
              "      <td>NaN</td>\n",
              "    </tr>\n",
              "    <tr>\n",
              "      <th>252232</th>\n",
              "      <td>NaN</td>\n",
              "      <td>NaN</td>\n",
              "      <td>NaN</td>\n",
              "      <td>has done it throughout his entire life. Sam L...</td>\n",
              "      <td>they both beat each other like angry dogs. GO...</td>\n",
              "      <td>positive</td>\n",
              "      <td>NaN</td>\n",
              "      <td>NaN</td>\n",
              "      <td>NaN</td>\n",
              "      <td>NaN</td>\n",
              "      <td>NaN</td>\n",
              "      <td>NaN</td>\n",
              "      <td>NaN</td>\n",
              "      <td>NaN</td>\n",
              "      <td>NaN</td>\n",
              "    </tr>\n",
              "  </tbody>\n",
              "</table>\n",
              "</div>"
            ],
            "text/plain": [
              "        Unnamed: 0 review sentiment  ... Unnamed: 12 Unnamed: 13 Unnamed: 14\n",
              "252228         NaN    NaN       NaN  ...         NaN         NaN         NaN\n",
              "252229         NaN    NaN       NaN  ...         NaN         NaN         NaN\n",
              "252230         NaN    NaN       NaN  ...         NaN         NaN         NaN\n",
              "252231         NaN    NaN       NaN  ...         NaN         NaN         NaN\n",
              "252232         NaN    NaN       NaN  ...         NaN         NaN         NaN\n",
              "\n",
              "[5 rows x 15 columns]"
            ]
          },
          "metadata": {},
          "execution_count": 6
        }
      ]
    },
    {
      "cell_type": "markdown",
      "metadata": {
        "id": "l1Fx8t9x8nIL"
      },
      "source": [
        "* **There are some instances, which are entirely composed on NaN values**\n",
        "* **We will remove them latter, after further verification**"
      ]
    },
    {
      "cell_type": "code",
      "metadata": {
        "id": "d2pwzO4F7ROq"
      },
      "source": [
        "df.drop('Unnamed: 0',inplace=True,axis=1)\n",
        "df.replace('', np.nan, inplace=True)"
      ],
      "execution_count": null,
      "outputs": []
    },
    {
      "cell_type": "markdown",
      "metadata": {
        "id": "cHxy8ouKKVxy"
      },
      "source": [
        "# **Check for mislabelling**"
      ]
    },
    {
      "cell_type": "code",
      "metadata": {
        "colab": {
          "base_uri": "https://localhost:8080/",
          "height": 148
        },
        "id": "VA7N352szUHs",
        "outputId": "130660e5-1af7-41a5-a675-f01a98d8563c"
      },
      "source": [
        "df[~df['Unnamed: 13'].isnull()]"
      ],
      "execution_count": null,
      "outputs": [
        {
          "output_type": "execute_result",
          "data": {
            "text/html": [
              "<div>\n",
              "<style scoped>\n",
              "    .dataframe tbody tr th:only-of-type {\n",
              "        vertical-align: middle;\n",
              "    }\n",
              "\n",
              "    .dataframe tbody tr th {\n",
              "        vertical-align: top;\n",
              "    }\n",
              "\n",
              "    .dataframe thead th {\n",
              "        text-align: right;\n",
              "    }\n",
              "</style>\n",
              "<table border=\"1\" class=\"dataframe\">\n",
              "  <thead>\n",
              "    <tr style=\"text-align: right;\">\n",
              "      <th></th>\n",
              "      <th>review</th>\n",
              "      <th>sentiment</th>\n",
              "      <th>Unnamed: 3</th>\n",
              "      <th>Unnamed: 4</th>\n",
              "      <th>Unnamed: 5</th>\n",
              "      <th>Unnamed: 6</th>\n",
              "      <th>Unnamed: 7</th>\n",
              "      <th>Unnamed: 8</th>\n",
              "      <th>Unnamed: 9</th>\n",
              "      <th>Unnamed: 10</th>\n",
              "      <th>Unnamed: 11</th>\n",
              "      <th>Unnamed: 12</th>\n",
              "      <th>Unnamed: 13</th>\n",
              "      <th>Unnamed: 14</th>\n",
              "    </tr>\n",
              "  </thead>\n",
              "  <tbody>\n",
              "    <tr>\n",
              "      <th>127862</th>\n",
              "      <td>Asuna is a school girl who likes to listen to ...</td>\n",
              "      <td>one day while listening she picks up music of...</td>\n",
              "      <td>on the way she encounters a fearsome creature</td>\n",
              "      <td>a boy named Shun saves her but he is injured ...</td>\n",
              "      <td>the legendary underground world of Agartha. A...</td>\n",
              "      <td>he is just a man who believes that Agartha ho...</td>\n",
              "      <td>some are friendly but most are fearful of 'To...</td>\n",
              "      <td>there are also the cursed Ikozu</td>\n",
              "      <td>creatures who dwell in the shadows and will d...</td>\n",
              "      <td>this looks fantastic. From his trademark shin...</td>\n",
              "      <td>in fact the film it reminded me of most was H...</td>\n",
              "      <td>the Ikozu are particularly creepy and we see ...</td>\n",
              "      <td>especially if you enjoyed Shinkai's previous ...</td>\n",
              "      <td>positive</td>\n",
              "    </tr>\n",
              "  </tbody>\n",
              "</table>\n",
              "</div>"
            ],
            "text/plain": [
              "                                                   review  ... Unnamed: 14\n",
              "127862  Asuna is a school girl who likes to listen to ...  ...    positive\n",
              "\n",
              "[1 rows x 14 columns]"
            ]
          },
          "metadata": {},
          "execution_count": 8
        }
      ]
    },
    {
      "cell_type": "code",
      "metadata": {
        "colab": {
          "base_uri": "https://localhost:8080/",
          "height": 36
        },
        "id": "XuWbC8kN0D7U",
        "outputId": "7523eb8c-4c26-4805-9826-b5661181287d"
      },
      "source": [
        "df[~df['Unnamed: 13'].isnull()].loc[127862,'review']"
      ],
      "execution_count": null,
      "outputs": [
        {
          "output_type": "execute_result",
          "data": {
            "application/vnd.google.colaboratory.intrinsic+json": {
              "type": "string"
            },
            "text/plain": [
              "'Asuna is a school girl who likes to listen to music she picks up on her homemade crystal radio'"
            ]
          },
          "metadata": {},
          "execution_count": 9
        }
      ]
    },
    {
      "cell_type": "code",
      "metadata": {
        "colab": {
          "base_uri": "https://localhost:8080/",
          "height": 53
        },
        "id": "gpC0tTp67hxL",
        "outputId": "a04efc72-6112-4a29-af71-5d90aca5ded6"
      },
      "source": [
        "df[~df['Unnamed: 13'].isnull()].loc[127862,'sentiment']"
      ],
      "execution_count": null,
      "outputs": [
        {
          "output_type": "execute_result",
          "data": {
            "application/vnd.google.colaboratory.intrinsic+json": {
              "type": "string"
            },
            "text/plain": [
              "' one day while listening she picks up music of a type she has never heard before. The next day in school they are warned that a bear has been spotted nearby but she still tries to go to the remote spot where she hear the music'"
            ]
          },
          "metadata": {},
          "execution_count": 10
        }
      ]
    },
    {
      "cell_type": "code",
      "metadata": {
        "colab": {
          "base_uri": "https://localhost:8080/"
        },
        "id": "e7xLh3CvIZL3",
        "outputId": "f632450f-e5b8-4143-897a-004bc48cf18f"
      },
      "source": [
        "df.sentiment.value_counts()"
      ],
      "execution_count": null,
      "outputs": [
        {
          "output_type": "execute_result",
          "data": {
            "text/plain": [
              "positive                                                                                                                                                                                                                                                                                    131632\n",
              "negative                                                                                                                                                                                                                                                                                    118115\n",
              ")                                                                                                                                                                                                                                                                                               11\n",
              " plus the general use of magic in the movie was pretty spot-on.                                                                                                                                                                                                                                  1\n",
              " in the remake it forms less than a quarter of the movie and all the tension and dread has been removed. The hero redeems himself by sticking to his principles and wins through                                                                                                                 1\n",
              "                                                                                                                                                                                                                                                                                             ...  \n",
              " The transformations are as usual. And who can give up to the SAIYAN SCREAM. A good to go storyline to make a damn good start with the new arc.                                                                                                                                                  1\n",
              " one day while listening she picks up music of a type she has never heard before. The next day in school they are warned that a bear has been spotted nearby but she still tries to go to the remote spot where she hear the music                                                               1\n",
              " 1. Some songs were not required or were misplaced. 2. Second half lost some pace. 3. Vidya Balan acted well but her role was not required. It was probably used to raise the emotional quotient of the movie but it didn't work.                                                                1\n",
              "t get the point of it. take the first joke for instance. Their's that sign at the beginning to start. well that was OK but then they start having some guy talking about the hood and then he dies then theirs the other guys who talks then he dies after the other guy says people don         1\n",
              ") not over and has hilalrious steorotyping jokes.                                                                                                                                                                                                                                                1\n",
              "Name: sentiment, Length: 285, dtype: int64"
            ]
          },
          "metadata": {},
          "execution_count": 11
        }
      ]
    },
    {
      "cell_type": "code",
      "metadata": {
        "colab": {
          "base_uri": "https://localhost:8080/",
          "height": 422
        },
        "id": "Ak65EKIzIDF1",
        "outputId": "39e6eab8-7f06-447f-e657-ca00ab823441"
      },
      "source": [
        "df[df.sentiment == ')'].head(11)"
      ],
      "execution_count": null,
      "outputs": [
        {
          "output_type": "execute_result",
          "data": {
            "text/html": [
              "<div>\n",
              "<style scoped>\n",
              "    .dataframe tbody tr th:only-of-type {\n",
              "        vertical-align: middle;\n",
              "    }\n",
              "\n",
              "    .dataframe tbody tr th {\n",
              "        vertical-align: top;\n",
              "    }\n",
              "\n",
              "    .dataframe thead th {\n",
              "        text-align: right;\n",
              "    }\n",
              "</style>\n",
              "<table border=\"1\" class=\"dataframe\">\n",
              "  <thead>\n",
              "    <tr style=\"text-align: right;\">\n",
              "      <th></th>\n",
              "      <th>review</th>\n",
              "      <th>sentiment</th>\n",
              "      <th>Unnamed: 3</th>\n",
              "      <th>Unnamed: 4</th>\n",
              "      <th>Unnamed: 5</th>\n",
              "      <th>Unnamed: 6</th>\n",
              "      <th>Unnamed: 7</th>\n",
              "      <th>Unnamed: 8</th>\n",
              "      <th>Unnamed: 9</th>\n",
              "      <th>Unnamed: 10</th>\n",
              "      <th>Unnamed: 11</th>\n",
              "      <th>Unnamed: 12</th>\n",
              "      <th>Unnamed: 13</th>\n",
              "      <th>Unnamed: 14</th>\n",
              "    </tr>\n",
              "  </thead>\n",
              "  <tbody>\n",
              "    <tr>\n",
              "      <th>42579</th>\n",
              "      <td>Get rid of that character from the TV series.....</td>\n",
              "      <td>)</td>\n",
              "      <td>negative</td>\n",
              "      <td>NaN</td>\n",
              "      <td>NaN</td>\n",
              "      <td>NaN</td>\n",
              "      <td>NaN</td>\n",
              "      <td>NaN</td>\n",
              "      <td>NaN</td>\n",
              "      <td>NaN</td>\n",
              "      <td>NaN</td>\n",
              "      <td>NaN</td>\n",
              "      <td>NaN</td>\n",
              "      <td>NaN</td>\n",
              "    </tr>\n",
              "    <tr>\n",
              "      <th>47440</th>\n",
              "      <td>Amazing movie. It feels good to see the patria...</td>\n",
              "      <td>)</td>\n",
              "      <td>positive</td>\n",
              "      <td>NaN</td>\n",
              "      <td>NaN</td>\n",
              "      <td>NaN</td>\n",
              "      <td>NaN</td>\n",
              "      <td>NaN</td>\n",
              "      <td>NaN</td>\n",
              "      <td>NaN</td>\n",
              "      <td>NaN</td>\n",
              "      <td>NaN</td>\n",
              "      <td>NaN</td>\n",
              "      <td>NaN</td>\n",
              "    </tr>\n",
              "    <tr>\n",
              "      <th>70424</th>\n",
              "      <td>I would rate the show higher than an eight but...</td>\n",
              "      <td>)</td>\n",
              "      <td>positive</td>\n",
              "      <td>NaN</td>\n",
              "      <td>NaN</td>\n",
              "      <td>NaN</td>\n",
              "      <td>NaN</td>\n",
              "      <td>NaN</td>\n",
              "      <td>NaN</td>\n",
              "      <td>NaN</td>\n",
              "      <td>NaN</td>\n",
              "      <td>NaN</td>\n",
              "      <td>NaN</td>\n",
              "      <td>NaN</td>\n",
              "    </tr>\n",
              "    <tr>\n",
              "      <th>73380</th>\n",
              "      <td>Funny af ! I really love all the characters in...</td>\n",
              "      <td>)</td>\n",
              "      <td>positive</td>\n",
              "      <td>NaN</td>\n",
              "      <td>NaN</td>\n",
              "      <td>NaN</td>\n",
              "      <td>NaN</td>\n",
              "      <td>NaN</td>\n",
              "      <td>NaN</td>\n",
              "      <td>NaN</td>\n",
              "      <td>NaN</td>\n",
              "      <td>NaN</td>\n",
              "      <td>NaN</td>\n",
              "      <td>NaN</td>\n",
              "    </tr>\n",
              "    <tr>\n",
              "      <th>136136</th>\n",
              "      <td>All I'm going to say is this movie was FRICKIN...</td>\n",
              "      <td>)</td>\n",
              "      <td>positive</td>\n",
              "      <td>NaN</td>\n",
              "      <td>NaN</td>\n",
              "      <td>NaN</td>\n",
              "      <td>NaN</td>\n",
              "      <td>NaN</td>\n",
              "      <td>NaN</td>\n",
              "      <td>NaN</td>\n",
              "      <td>NaN</td>\n",
              "      <td>NaN</td>\n",
              "      <td>NaN</td>\n",
              "      <td>NaN</td>\n",
              "    </tr>\n",
              "    <tr>\n",
              "      <th>139702</th>\n",
              "      <td>Kevin Hart is brilliant and so funny! Loved th...</td>\n",
              "      <td>)</td>\n",
              "      <td>positive</td>\n",
              "      <td>NaN</td>\n",
              "      <td>NaN</td>\n",
              "      <td>NaN</td>\n",
              "      <td>NaN</td>\n",
              "      <td>NaN</td>\n",
              "      <td>NaN</td>\n",
              "      <td>NaN</td>\n",
              "      <td>NaN</td>\n",
              "      <td>NaN</td>\n",
              "      <td>NaN</td>\n",
              "      <td>NaN</td>\n",
              "    </tr>\n",
              "    <tr>\n",
              "      <th>150339</th>\n",
              "      <td>This was the most boring horror movie i have e...</td>\n",
              "      <td>)</td>\n",
              "      <td>negative</td>\n",
              "      <td>NaN</td>\n",
              "      <td>NaN</td>\n",
              "      <td>NaN</td>\n",
              "      <td>NaN</td>\n",
              "      <td>NaN</td>\n",
              "      <td>NaN</td>\n",
              "      <td>NaN</td>\n",
              "      <td>NaN</td>\n",
              "      <td>NaN</td>\n",
              "      <td>NaN</td>\n",
              "      <td>NaN</td>\n",
              "    </tr>\n",
              "    <tr>\n",
              "      <th>153902</th>\n",
              "      <td>Anything James Spader stars in is always excel...</td>\n",
              "      <td>)</td>\n",
              "      <td>positive</td>\n",
              "      <td>NaN</td>\n",
              "      <td>NaN</td>\n",
              "      <td>NaN</td>\n",
              "      <td>NaN</td>\n",
              "      <td>NaN</td>\n",
              "      <td>NaN</td>\n",
              "      <td>NaN</td>\n",
              "      <td>NaN</td>\n",
              "      <td>NaN</td>\n",
              "      <td>NaN</td>\n",
              "      <td>NaN</td>\n",
              "    </tr>\n",
              "    <tr>\n",
              "      <th>174152</th>\n",
              "      <td>i am watching the show on Cartoon network its ...</td>\n",
              "      <td>)</td>\n",
              "      <td>positive</td>\n",
              "      <td>NaN</td>\n",
              "      <td>NaN</td>\n",
              "      <td>NaN</td>\n",
              "      <td>NaN</td>\n",
              "      <td>NaN</td>\n",
              "      <td>NaN</td>\n",
              "      <td>NaN</td>\n",
              "      <td>NaN</td>\n",
              "      <td>NaN</td>\n",
              "      <td>NaN</td>\n",
              "      <td>NaN</td>\n",
              "    </tr>\n",
              "    <tr>\n",
              "      <th>179129</th>\n",
              "      <td>SPOILER!! The film is superb. Now what to make...</td>\n",
              "      <td>)</td>\n",
              "      <td>positive</td>\n",
              "      <td>NaN</td>\n",
              "      <td>NaN</td>\n",
              "      <td>NaN</td>\n",
              "      <td>NaN</td>\n",
              "      <td>NaN</td>\n",
              "      <td>NaN</td>\n",
              "      <td>NaN</td>\n",
              "      <td>NaN</td>\n",
              "      <td>NaN</td>\n",
              "      <td>NaN</td>\n",
              "      <td>NaN</td>\n",
              "    </tr>\n",
              "    <tr>\n",
              "      <th>183516</th>\n",
              "      <td>If I could rate it by season...here's how I wo...</td>\n",
              "      <td>)</td>\n",
              "      <td>positive</td>\n",
              "      <td>NaN</td>\n",
              "      <td>NaN</td>\n",
              "      <td>NaN</td>\n",
              "      <td>NaN</td>\n",
              "      <td>NaN</td>\n",
              "      <td>NaN</td>\n",
              "      <td>NaN</td>\n",
              "      <td>NaN</td>\n",
              "      <td>NaN</td>\n",
              "      <td>NaN</td>\n",
              "      <td>NaN</td>\n",
              "    </tr>\n",
              "  </tbody>\n",
              "</table>\n",
              "</div>"
            ],
            "text/plain": [
              "                                                   review  ... Unnamed: 14\n",
              "42579   Get rid of that character from the TV series.....  ...         NaN\n",
              "47440   Amazing movie. It feels good to see the patria...  ...         NaN\n",
              "70424   I would rate the show higher than an eight but...  ...         NaN\n",
              "73380   Funny af ! I really love all the characters in...  ...         NaN\n",
              "136136  All I'm going to say is this movie was FRICKIN...  ...         NaN\n",
              "139702  Kevin Hart is brilliant and so funny! Loved th...  ...         NaN\n",
              "150339  This was the most boring horror movie i have e...  ...         NaN\n",
              "153902  Anything James Spader stars in is always excel...  ...         NaN\n",
              "174152  i am watching the show on Cartoon network its ...  ...         NaN\n",
              "179129  SPOILER!! The film is superb. Now what to make...  ...         NaN\n",
              "183516  If I could rate it by season...here's how I wo...  ...         NaN\n",
              "\n",
              "[11 rows x 14 columns]"
            ]
          },
          "metadata": {},
          "execution_count": 12
        }
      ]
    },
    {
      "cell_type": "code",
      "metadata": {
        "colab": {
          "base_uri": "https://localhost:8080/"
        },
        "id": "JONVrR2yIhBI",
        "outputId": "ea761c20-792c-4a96-a0ab-c35933700bd4"
      },
      "source": [
        "df.loc[42579,'sentiment'],df.loc[42579,'review']"
      ],
      "execution_count": null,
      "outputs": [
        {
          "output_type": "execute_result",
          "data": {
            "text/plain": [
              "(')', 'Get rid of that character from the TV series..read the comics ')"
            ]
          },
          "metadata": {},
          "execution_count": 13
        }
      ]
    },
    {
      "cell_type": "markdown",
      "metadata": {
        "id": "giw8G1o-7m6t"
      },
      "source": [
        "* **It can be noted that, for some instances, the text is split into multiple columns. We will collate the text and get the correct label in the sentiment column for such instances**"
      ]
    },
    {
      "cell_type": "markdown",
      "metadata": {
        "id": "RI-e4wEEKjk4"
      },
      "source": [
        "# **Treating mislabelling**"
      ]
    },
    {
      "cell_type": "markdown",
      "metadata": {
        "id": "4zBaB8zun4H6"
      },
      "source": [
        "#Type 1 Mislabelling: Invalid value ( ')' ) in the sentiment column and sentiment in 'Unnamed: 3' column"
      ]
    },
    {
      "cell_type": "code",
      "metadata": {
        "id": "-x3NueWd-Qt0"
      },
      "source": [
        "mis_cat_1 = df[df.sentiment == ')'].index.to_list()\n",
        "df['sentiment'] = df.apply(lambda x: x['Unnamed: 3'] if x['sentiment'] == ')' else x['sentiment'], axis=1)"
      ],
      "execution_count": null,
      "outputs": []
    },
    {
      "cell_type": "code",
      "metadata": {
        "colab": {
          "base_uri": "https://localhost:8080/"
        },
        "id": "bUi0cl03-QlO",
        "outputId": "497f3b76-5c8c-4d01-8208-1d925b442a95"
      },
      "source": [
        "df.loc[mis_cat_1,'sentiment']"
      ],
      "execution_count": null,
      "outputs": [
        {
          "output_type": "execute_result",
          "data": {
            "text/plain": [
              "42579     negative\n",
              "47440     positive\n",
              "70424     positive\n",
              "73380     positive\n",
              "136136    positive\n",
              "139702    positive\n",
              "150339    negative\n",
              "153902    positive\n",
              "174152    positive\n",
              "179129    positive\n",
              "183516    positive\n",
              "Name: sentiment, dtype: object"
            ]
          },
          "metadata": {},
          "execution_count": 15
        }
      ]
    },
    {
      "cell_type": "markdown",
      "metadata": {
        "id": "RnM504qYoTaq"
      },
      "source": [
        "#Type 2 Mislabelling: Misplaced sentiment label and review split into multiple columns "
      ]
    },
    {
      "cell_type": "markdown",
      "metadata": {
        "id": "8Qs4Royt-sUt"
      },
      "source": [
        "# Correcting Review Column"
      ]
    },
    {
      "cell_type": "code",
      "metadata": {
        "id": "mGnNgKH4_ZUl"
      },
      "source": [
        "def collator(c):\n",
        "  collated_review = ''\n",
        "  for i in c.index:\n",
        "    if c[i]!= 'positive' and c[i]!= 'negative' and type(c[i]) == str:\n",
        "      collated_review +=c[i]\n",
        "  \n",
        "  return collated_review"
      ],
      "execution_count": null,
      "outputs": []
    },
    {
      "cell_type": "code",
      "metadata": {
        "id": "HWRFsk_Y_hCa"
      },
      "source": [
        "df['mod_review'] = df.apply(lambda c:collator(c), axis=1)"
      ],
      "execution_count": null,
      "outputs": []
    },
    {
      "cell_type": "code",
      "metadata": {
        "colab": {
          "base_uri": "https://localhost:8080/",
          "height": 107
        },
        "id": "418nVK2WHgAU",
        "outputId": "fa602b3b-6d06-4886-cf10-ba60ada84ccb"
      },
      "source": [
        "df[~df['Unnamed: 13'].isnull()]['mod_review'][127862]"
      ],
      "execution_count": null,
      "outputs": [
        {
          "output_type": "execute_result",
          "data": {
            "application/vnd.google.colaboratory.intrinsic+json": {
              "type": "string"
            },
            "text/plain": [
              "\"Asuna is a school girl who likes to listen to music she picks up on her homemade crystal radio one day while listening she picks up music of a type she has never heard before. The next day in school they are warned that a bear has been spotted nearby but she still tries to go to the remote spot where she hear the music on the way she encounters a fearsome creature a boy named Shun saves her but he is injured in the process. Not long afterwards she learns that he has died but can't quite believe it. She returns to the spot where she last saw him and thinks she sees him again but it is his brother Shin. Surprisingly they are met by a military force that is determined to find its way into Shin's home the legendary underground world of Agartha. Asuna and Shin manage to flee to Agartha but the leader of the armed force gets in to although he is revealed to be somebody who may not be so bad after all he is just a man who believes that Agartha holds the secret to bringing his late wife back to life. Once in Agartha they will have to deal with the local people some are friendly but most are fearful of 'Topsiders'. People aren't the only threat there are also the cursed Ikozu creatures who dwell in the shadows and will devour people like Asuna!People who have watched any of Makoto Shinkai's previous works will be expecting stunning visuals\\x85 and they won't be disappointed this looks fantastic. From his trademark shining railway tracks to the luscious scenery everything looks great. We don't get a large cast of characters but the ones we get are interesting and are portrayed in a way that will make most viewers care about them. The story is more fantastical than his previous works in fact the film it reminded me of most was Hayao Miyazaki's 'Princess Mononoke' as it deals with mythical creatures. The fantasy elements may suggests that this is a film for younger viewers but there are plenty of genuinely creepy moments that could possibly give younger children nightmares the Ikozu are particularly creepy and we see blood spilt more than once. Overall I'd say that this will is well worth watching especially if you enjoyed Shinkai's previous works or films like 'Princess Mononoke'.These comments are based on watching the film in Japanese with English subtitles.\""
            ]
          },
          "metadata": {},
          "execution_count": 18
        }
      ]
    },
    {
      "cell_type": "markdown",
      "metadata": {
        "id": "btq18fobJNAN"
      },
      "source": [
        "* **We successfully collated the review column**"
      ]
    },
    {
      "cell_type": "markdown",
      "metadata": {
        "id": "IHstFGPT-srS"
      },
      "source": [
        "# Correcting Sentiment Column"
      ]
    },
    {
      "cell_type": "code",
      "metadata": {
        "id": "GLqiwX0It8zl"
      },
      "source": [
        "def labeler(c):\n",
        "  for i in c.index:\n",
        "    if c[i] == 'positive' or c[i] == 'negative':\n",
        "      return c[i]"
      ],
      "execution_count": null,
      "outputs": []
    },
    {
      "cell_type": "code",
      "metadata": {
        "id": "7kyhjfXYnjn0"
      },
      "source": [
        "df['mod_sentiment'] = df.apply(lambda c:labeler(c), axis=1)"
      ],
      "execution_count": null,
      "outputs": []
    },
    {
      "cell_type": "code",
      "metadata": {
        "colab": {
          "base_uri": "https://localhost:8080/"
        },
        "id": "Vsl-eFiBxtCw",
        "outputId": "952761a9-046e-4c80-c871-1b515cea7e05"
      },
      "source": [
        "df['mod_sentiment'].value_counts()"
      ],
      "execution_count": null,
      "outputs": [
        {
          "output_type": "execute_result",
          "data": {
            "text/plain": [
              "positive    131810\n",
              "negative    118232\n",
              "Name: mod_sentiment, dtype: int64"
            ]
          },
          "metadata": {},
          "execution_count": 21
        }
      ]
    },
    {
      "cell_type": "code",
      "metadata": {
        "colab": {
          "base_uri": "https://localhost:8080/",
          "height": 418
        },
        "id": "UshNg2GjApSk",
        "outputId": "ca5b3fec-dd1d-4cc6-96f7-f378260369e0"
      },
      "source": [
        "df[df['mod_sentiment'].isnull()]"
      ],
      "execution_count": null,
      "outputs": [
        {
          "output_type": "execute_result",
          "data": {
            "text/html": [
              "<div>\n",
              "<style scoped>\n",
              "    .dataframe tbody tr th:only-of-type {\n",
              "        vertical-align: middle;\n",
              "    }\n",
              "\n",
              "    .dataframe tbody tr th {\n",
              "        vertical-align: top;\n",
              "    }\n",
              "\n",
              "    .dataframe thead th {\n",
              "        text-align: right;\n",
              "    }\n",
              "</style>\n",
              "<table border=\"1\" class=\"dataframe\">\n",
              "  <thead>\n",
              "    <tr style=\"text-align: right;\">\n",
              "      <th></th>\n",
              "      <th>review</th>\n",
              "      <th>sentiment</th>\n",
              "      <th>Unnamed: 3</th>\n",
              "      <th>Unnamed: 4</th>\n",
              "      <th>Unnamed: 5</th>\n",
              "      <th>Unnamed: 6</th>\n",
              "      <th>Unnamed: 7</th>\n",
              "      <th>Unnamed: 8</th>\n",
              "      <th>Unnamed: 9</th>\n",
              "      <th>Unnamed: 10</th>\n",
              "      <th>Unnamed: 11</th>\n",
              "      <th>Unnamed: 12</th>\n",
              "      <th>Unnamed: 13</th>\n",
              "      <th>Unnamed: 14</th>\n",
              "      <th>mod_review</th>\n",
              "      <th>mod_sentiment</th>\n",
              "    </tr>\n",
              "  </thead>\n",
              "  <tbody>\n",
              "    <tr>\n",
              "      <th>250040</th>\n",
              "      <td>NaN</td>\n",
              "      <td>NaN</td>\n",
              "      <td>NaN</td>\n",
              "      <td>NaN</td>\n",
              "      <td>NaN</td>\n",
              "      <td>NaN</td>\n",
              "      <td>NaN</td>\n",
              "      <td>NaN</td>\n",
              "      <td>NaN</td>\n",
              "      <td>NaN</td>\n",
              "      <td>NaN</td>\n",
              "      <td>NaN</td>\n",
              "      <td>NaN</td>\n",
              "      <td>NaN</td>\n",
              "      <td></td>\n",
              "      <td>None</td>\n",
              "    </tr>\n",
              "    <tr>\n",
              "      <th>250041</th>\n",
              "      <td>NaN</td>\n",
              "      <td>NaN</td>\n",
              "      <td>NaN</td>\n",
              "      <td>NaN</td>\n",
              "      <td>NaN</td>\n",
              "      <td>NaN</td>\n",
              "      <td>NaN</td>\n",
              "      <td>NaN</td>\n",
              "      <td>NaN</td>\n",
              "      <td>NaN</td>\n",
              "      <td>NaN</td>\n",
              "      <td>NaN</td>\n",
              "      <td>NaN</td>\n",
              "      <td>NaN</td>\n",
              "      <td></td>\n",
              "      <td>None</td>\n",
              "    </tr>\n",
              "    <tr>\n",
              "      <th>250042</th>\n",
              "      <td>NaN</td>\n",
              "      <td>NaN</td>\n",
              "      <td>NaN</td>\n",
              "      <td>NaN</td>\n",
              "      <td>NaN</td>\n",
              "      <td>NaN</td>\n",
              "      <td>NaN</td>\n",
              "      <td>NaN</td>\n",
              "      <td>NaN</td>\n",
              "      <td>NaN</td>\n",
              "      <td>NaN</td>\n",
              "      <td>NaN</td>\n",
              "      <td>NaN</td>\n",
              "      <td>NaN</td>\n",
              "      <td></td>\n",
              "      <td>None</td>\n",
              "    </tr>\n",
              "    <tr>\n",
              "      <th>250043</th>\n",
              "      <td>NaN</td>\n",
              "      <td>NaN</td>\n",
              "      <td>NaN</td>\n",
              "      <td>NaN</td>\n",
              "      <td>NaN</td>\n",
              "      <td>NaN</td>\n",
              "      <td>NaN</td>\n",
              "      <td>NaN</td>\n",
              "      <td>NaN</td>\n",
              "      <td>NaN</td>\n",
              "      <td>NaN</td>\n",
              "      <td>NaN</td>\n",
              "      <td>NaN</td>\n",
              "      <td>NaN</td>\n",
              "      <td></td>\n",
              "      <td>None</td>\n",
              "    </tr>\n",
              "    <tr>\n",
              "      <th>250044</th>\n",
              "      <td>NaN</td>\n",
              "      <td>NaN</td>\n",
              "      <td>NaN</td>\n",
              "      <td>NaN</td>\n",
              "      <td>NaN</td>\n",
              "      <td>NaN</td>\n",
              "      <td>NaN</td>\n",
              "      <td>NaN</td>\n",
              "      <td>NaN</td>\n",
              "      <td>NaN</td>\n",
              "      <td>NaN</td>\n",
              "      <td>NaN</td>\n",
              "      <td>NaN</td>\n",
              "      <td>NaN</td>\n",
              "      <td></td>\n",
              "      <td>None</td>\n",
              "    </tr>\n",
              "    <tr>\n",
              "      <th>...</th>\n",
              "      <td>...</td>\n",
              "      <td>...</td>\n",
              "      <td>...</td>\n",
              "      <td>...</td>\n",
              "      <td>...</td>\n",
              "      <td>...</td>\n",
              "      <td>...</td>\n",
              "      <td>...</td>\n",
              "      <td>...</td>\n",
              "      <td>...</td>\n",
              "      <td>...</td>\n",
              "      <td>...</td>\n",
              "      <td>...</td>\n",
              "      <td>...</td>\n",
              "      <td>...</td>\n",
              "      <td>...</td>\n",
              "    </tr>\n",
              "    <tr>\n",
              "      <th>252227</th>\n",
              "      <td>NaN</td>\n",
              "      <td>NaN</td>\n",
              "      <td>NaN</td>\n",
              "      <td>NaN</td>\n",
              "      <td>NaN</td>\n",
              "      <td>NaN</td>\n",
              "      <td>NaN</td>\n",
              "      <td>NaN</td>\n",
              "      <td>NaN</td>\n",
              "      <td>NaN</td>\n",
              "      <td>NaN</td>\n",
              "      <td>NaN</td>\n",
              "      <td>NaN</td>\n",
              "      <td>NaN</td>\n",
              "      <td></td>\n",
              "      <td>None</td>\n",
              "    </tr>\n",
              "    <tr>\n",
              "      <th>252228</th>\n",
              "      <td>NaN</td>\n",
              "      <td>NaN</td>\n",
              "      <td>NaN</td>\n",
              "      <td>NaN</td>\n",
              "      <td>NaN</td>\n",
              "      <td>NaN</td>\n",
              "      <td>NaN</td>\n",
              "      <td>NaN</td>\n",
              "      <td>NaN</td>\n",
              "      <td>NaN</td>\n",
              "      <td>NaN</td>\n",
              "      <td>NaN</td>\n",
              "      <td>NaN</td>\n",
              "      <td>NaN</td>\n",
              "      <td></td>\n",
              "      <td>None</td>\n",
              "    </tr>\n",
              "    <tr>\n",
              "      <th>252229</th>\n",
              "      <td>NaN</td>\n",
              "      <td>NaN</td>\n",
              "      <td>NaN</td>\n",
              "      <td>NaN</td>\n",
              "      <td>NaN</td>\n",
              "      <td>NaN</td>\n",
              "      <td>NaN</td>\n",
              "      <td>NaN</td>\n",
              "      <td>NaN</td>\n",
              "      <td>NaN</td>\n",
              "      <td>NaN</td>\n",
              "      <td>NaN</td>\n",
              "      <td>NaN</td>\n",
              "      <td>NaN</td>\n",
              "      <td></td>\n",
              "      <td>None</td>\n",
              "    </tr>\n",
              "    <tr>\n",
              "      <th>252230</th>\n",
              "      <td>NaN</td>\n",
              "      <td>NaN</td>\n",
              "      <td>NaN</td>\n",
              "      <td>NaN</td>\n",
              "      <td>NaN</td>\n",
              "      <td>NaN</td>\n",
              "      <td>NaN</td>\n",
              "      <td>NaN</td>\n",
              "      <td>NaN</td>\n",
              "      <td>NaN</td>\n",
              "      <td>NaN</td>\n",
              "      <td>NaN</td>\n",
              "      <td>NaN</td>\n",
              "      <td>NaN</td>\n",
              "      <td></td>\n",
              "      <td>None</td>\n",
              "    </tr>\n",
              "    <tr>\n",
              "      <th>252231</th>\n",
              "      <td>NaN</td>\n",
              "      <td>NaN</td>\n",
              "      <td>NaN</td>\n",
              "      <td>NaN</td>\n",
              "      <td>NaN</td>\n",
              "      <td>NaN</td>\n",
              "      <td>NaN</td>\n",
              "      <td>NaN</td>\n",
              "      <td>NaN</td>\n",
              "      <td>NaN</td>\n",
              "      <td>NaN</td>\n",
              "      <td>NaN</td>\n",
              "      <td>NaN</td>\n",
              "      <td>NaN</td>\n",
              "      <td></td>\n",
              "      <td>None</td>\n",
              "    </tr>\n",
              "  </tbody>\n",
              "</table>\n",
              "<p>2191 rows × 16 columns</p>\n",
              "</div>"
            ],
            "text/plain": [
              "       review sentiment Unnamed: 3  ... Unnamed: 14 mod_review mod_sentiment\n",
              "250040    NaN       NaN        NaN  ...         NaN                     None\n",
              "250041    NaN       NaN        NaN  ...         NaN                     None\n",
              "250042    NaN       NaN        NaN  ...         NaN                     None\n",
              "250043    NaN       NaN        NaN  ...         NaN                     None\n",
              "250044    NaN       NaN        NaN  ...         NaN                     None\n",
              "...       ...       ...        ...  ...         ...        ...           ...\n",
              "252227    NaN       NaN        NaN  ...         NaN                     None\n",
              "252228    NaN       NaN        NaN  ...         NaN                     None\n",
              "252229    NaN       NaN        NaN  ...         NaN                     None\n",
              "252230    NaN       NaN        NaN  ...         NaN                     None\n",
              "252231    NaN       NaN        NaN  ...         NaN                     None\n",
              "\n",
              "[2191 rows x 16 columns]"
            ]
          },
          "metadata": {},
          "execution_count": 22
        }
      ]
    },
    {
      "cell_type": "code",
      "metadata": {
        "colab": {
          "base_uri": "https://localhost:8080/"
        },
        "id": "D8pOzZtCzT76",
        "outputId": "715e6160-cec0-489d-f90e-9b470b5e9232"
      },
      "source": [
        "null_list = df[df['mod_sentiment'].isnull()].index.to_list()\n",
        "len(null_list)"
      ],
      "execution_count": null,
      "outputs": [
        {
          "output_type": "execute_result",
          "data": {
            "text/plain": [
              "2191"
            ]
          },
          "metadata": {},
          "execution_count": 23
        }
      ]
    },
    {
      "cell_type": "markdown",
      "metadata": {
        "id": "Wv4wmsch9HUW"
      },
      "source": [
        "* **Thus we can verify that there are 2191 rows, which are entirely composed of NaN values.**"
      ]
    },
    {
      "cell_type": "code",
      "metadata": {
        "colab": {
          "base_uri": "https://localhost:8080/"
        },
        "id": "umK9M1zRzqw8",
        "outputId": "ed5d4e0b-1ff7-4fa5-8ac2-57ec37c3dc43"
      },
      "source": [
        "df.drop(df.index[null_list], inplace=True)  #Removing NaN instances\n",
        "len(df[df['mod_sentiment'].isnull()].index.to_list())"
      ],
      "execution_count": null,
      "outputs": [
        {
          "output_type": "execute_result",
          "data": {
            "text/plain": [
              "0"
            ]
          },
          "metadata": {},
          "execution_count": 24
        }
      ]
    },
    {
      "cell_type": "markdown",
      "metadata": {
        "id": "kD8_g3gy9uVG"
      },
      "source": [
        "* **We successfully removed uneccessary columns and NaN instances.**\n",
        "* **We have also treated the data for Type 1 and Type 2 mislabeling.**"
      ]
    },
    {
      "cell_type": "code",
      "metadata": {
        "id": "HKoitfAFI2Sm"
      },
      "source": [
        "collated_df = df[['mod_sentiment','mod_review']].copy()"
      ],
      "execution_count": null,
      "outputs": []
    },
    {
      "cell_type": "markdown",
      "metadata": {
        "id": "BGDHJgVMPndl"
      },
      "source": [
        "# Checking for empty strings"
      ]
    },
    {
      "cell_type": "code",
      "metadata": {
        "colab": {
          "base_uri": "https://localhost:8080/",
          "height": 49
        },
        "id": "KOYw-x95Pw_l",
        "outputId": "c6838c26-675f-4409-c1c8-1b730bd9dd59"
      },
      "source": [
        "collated_df[collated_df.mod_sentiment == '']"
      ],
      "execution_count": null,
      "outputs": [
        {
          "output_type": "execute_result",
          "data": {
            "text/html": [
              "<div>\n",
              "<style scoped>\n",
              "    .dataframe tbody tr th:only-of-type {\n",
              "        vertical-align: middle;\n",
              "    }\n",
              "\n",
              "    .dataframe tbody tr th {\n",
              "        vertical-align: top;\n",
              "    }\n",
              "\n",
              "    .dataframe thead th {\n",
              "        text-align: right;\n",
              "    }\n",
              "</style>\n",
              "<table border=\"1\" class=\"dataframe\">\n",
              "  <thead>\n",
              "    <tr style=\"text-align: right;\">\n",
              "      <th></th>\n",
              "      <th>mod_sentiment</th>\n",
              "      <th>mod_review</th>\n",
              "    </tr>\n",
              "  </thead>\n",
              "  <tbody>\n",
              "  </tbody>\n",
              "</table>\n",
              "</div>"
            ],
            "text/plain": [
              "Empty DataFrame\n",
              "Columns: [mod_sentiment, mod_review]\n",
              "Index: []"
            ]
          },
          "metadata": {},
          "execution_count": 26
        }
      ]
    },
    {
      "cell_type": "code",
      "metadata": {
        "colab": {
          "base_uri": "https://localhost:8080/",
          "height": 80
        },
        "id": "8KphSiz3Pq5c",
        "outputId": "04e32507-683c-4b8b-d59b-705069977902"
      },
      "source": [
        "collated_df[collated_df.mod_review == '']"
      ],
      "execution_count": null,
      "outputs": [
        {
          "output_type": "execute_result",
          "data": {
            "text/html": [
              "<div>\n",
              "<style scoped>\n",
              "    .dataframe tbody tr th:only-of-type {\n",
              "        vertical-align: middle;\n",
              "    }\n",
              "\n",
              "    .dataframe tbody tr th {\n",
              "        vertical-align: top;\n",
              "    }\n",
              "\n",
              "    .dataframe thead th {\n",
              "        text-align: right;\n",
              "    }\n",
              "</style>\n",
              "<table border=\"1\" class=\"dataframe\">\n",
              "  <thead>\n",
              "    <tr style=\"text-align: right;\">\n",
              "      <th></th>\n",
              "      <th>mod_sentiment</th>\n",
              "      <th>mod_review</th>\n",
              "    </tr>\n",
              "  </thead>\n",
              "  <tbody>\n",
              "    <tr>\n",
              "      <th>250425</th>\n",
              "      <td>negative</td>\n",
              "      <td></td>\n",
              "    </tr>\n",
              "  </tbody>\n",
              "</table>\n",
              "</div>"
            ],
            "text/plain": [
              "       mod_sentiment mod_review\n",
              "250425      negative           "
            ]
          },
          "metadata": {},
          "execution_count": 27
        }
      ]
    },
    {
      "cell_type": "code",
      "metadata": {
        "colab": {
          "base_uri": "https://localhost:8080/"
        },
        "id": "D_TiEDgKPWyJ",
        "outputId": "d191c57f-84e5-4605-9ab2-6eb1e7e70bf1"
      },
      "source": [
        "df.loc[250425]"
      ],
      "execution_count": null,
      "outputs": [
        {
          "output_type": "execute_result",
          "data": {
            "text/plain": [
              "review                NaN\n",
              "sentiment             NaN\n",
              "Unnamed: 3       negative\n",
              "Unnamed: 4            NaN\n",
              "Unnamed: 5            NaN\n",
              "Unnamed: 6            NaN\n",
              "Unnamed: 7            NaN\n",
              "Unnamed: 8            NaN\n",
              "Unnamed: 9            NaN\n",
              "Unnamed: 10           NaN\n",
              "Unnamed: 11           NaN\n",
              "Unnamed: 12           NaN\n",
              "Unnamed: 13           NaN\n",
              "Unnamed: 14           NaN\n",
              "mod_review               \n",
              "mod_sentiment    negative\n",
              "Name: 250425, dtype: object"
            ]
          },
          "metadata": {},
          "execution_count": 28
        }
      ]
    },
    {
      "cell_type": "markdown",
      "metadata": {
        "id": "VVYWvTQzP-AH"
      },
      "source": [
        "* **We can remove this instance, since it has no value for the review column.**"
      ]
    },
    {
      "cell_type": "code",
      "metadata": {
        "id": "FGIQ1HB1P8w6"
      },
      "source": [
        "collated_df.drop(250425, inplace=True)"
      ],
      "execution_count": null,
      "outputs": []
    },
    {
      "cell_type": "code",
      "metadata": {
        "colab": {
          "base_uri": "https://localhost:8080/"
        },
        "id": "6K_Trr9TMBLi",
        "outputId": "4a8b07da-740e-466c-ac97-0b7107932f9c"
      },
      "source": [
        "collated_df.info()"
      ],
      "execution_count": null,
      "outputs": [
        {
          "output_type": "stream",
          "name": "stdout",
          "text": [
            "<class 'pandas.core.frame.DataFrame'>\n",
            "Int64Index: 250041 entries, 0 to 252232\n",
            "Data columns (total 2 columns):\n",
            " #   Column         Non-Null Count   Dtype \n",
            "---  ------         --------------   ----- \n",
            " 0   mod_sentiment  250041 non-null  object\n",
            " 1   mod_review     250041 non-null  object\n",
            "dtypes: object(2)\n",
            "memory usage: 5.7+ MB\n"
          ]
        }
      ]
    },
    {
      "cell_type": "code",
      "metadata": {
        "id": "qDhrJn8askt6"
      },
      "source": [
        "collated_df['mod_sentiment'] = collated_df['mod_sentiment'].apply(lambda x: 1 if x == 'positive' else 0)"
      ],
      "execution_count": null,
      "outputs": []
    },
    {
      "cell_type": "code",
      "metadata": {
        "colab": {
          "base_uri": "https://localhost:8080/",
          "height": 204
        },
        "id": "42KChoZJJ1CR",
        "outputId": "007d0496-d4de-4294-e84c-3ca1e5e1bf3b"
      },
      "source": [
        "collated_df.head()"
      ],
      "execution_count": null,
      "outputs": [
        {
          "output_type": "execute_result",
          "data": {
            "text/html": [
              "<div>\n",
              "<style scoped>\n",
              "    .dataframe tbody tr th:only-of-type {\n",
              "        vertical-align: middle;\n",
              "    }\n",
              "\n",
              "    .dataframe tbody tr th {\n",
              "        vertical-align: top;\n",
              "    }\n",
              "\n",
              "    .dataframe thead th {\n",
              "        text-align: right;\n",
              "    }\n",
              "</style>\n",
              "<table border=\"1\" class=\"dataframe\">\n",
              "  <thead>\n",
              "    <tr style=\"text-align: right;\">\n",
              "      <th></th>\n",
              "      <th>mod_sentiment</th>\n",
              "      <th>mod_review</th>\n",
              "    </tr>\n",
              "  </thead>\n",
              "  <tbody>\n",
              "    <tr>\n",
              "      <th>0</th>\n",
              "      <td>1</td>\n",
              "      <td>Hakuna Matata. What a wonderful phrase. Hakuna...</td>\n",
              "    </tr>\n",
              "    <tr>\n",
              "      <th>1</th>\n",
              "      <td>1</td>\n",
              "      <td>Obviously a second attempt at the Hugh Glass s...</td>\n",
              "    </tr>\n",
              "    <tr>\n",
              "      <th>2</th>\n",
              "      <td>0</td>\n",
              "      <td>If some studio head, or person who was ivolved...</td>\n",
              "    </tr>\n",
              "    <tr>\n",
              "      <th>3</th>\n",
              "      <td>1</td>\n",
              "      <td>Rocknrolla rocked me big time. I fall for ever...</td>\n",
              "    </tr>\n",
              "    <tr>\n",
              "      <th>4</th>\n",
              "      <td>1</td>\n",
              "      <td>Finally, harry potter has a better movie than ...</td>\n",
              "    </tr>\n",
              "  </tbody>\n",
              "</table>\n",
              "</div>"
            ],
            "text/plain": [
              "   mod_sentiment                                         mod_review\n",
              "0              1  Hakuna Matata. What a wonderful phrase. Hakuna...\n",
              "1              1  Obviously a second attempt at the Hugh Glass s...\n",
              "2              0  If some studio head, or person who was ivolved...\n",
              "3              1  Rocknrolla rocked me big time. I fall for ever...\n",
              "4              1  Finally, harry potter has a better movie than ..."
            ]
          },
          "metadata": {},
          "execution_count": 32
        }
      ]
    },
    {
      "cell_type": "code",
      "metadata": {
        "colab": {
          "base_uri": "https://localhost:8080/",
          "height": 204
        },
        "id": "QlgTbLfQQzBg",
        "outputId": "678acd1d-f06d-4870-ab1e-a3bf1ed47a80"
      },
      "source": [
        "collated_df.tail()"
      ],
      "execution_count": null,
      "outputs": [
        {
          "output_type": "execute_result",
          "data": {
            "text/html": [
              "<div>\n",
              "<style scoped>\n",
              "    .dataframe tbody tr th:only-of-type {\n",
              "        vertical-align: middle;\n",
              "    }\n",
              "\n",
              "    .dataframe tbody tr th {\n",
              "        vertical-align: top;\n",
              "    }\n",
              "\n",
              "    .dataframe thead th {\n",
              "        text-align: right;\n",
              "    }\n",
              "</style>\n",
              "<table border=\"1\" class=\"dataframe\">\n",
              "  <thead>\n",
              "    <tr style=\"text-align: right;\">\n",
              "      <th></th>\n",
              "      <th>mod_sentiment</th>\n",
              "      <th>mod_review</th>\n",
              "    </tr>\n",
              "  </thead>\n",
              "  <tbody>\n",
              "    <tr>\n",
              "      <th>250036</th>\n",
              "      <td>1</td>\n",
              "      <td>As a father of four in his forties I thought t...</td>\n",
              "    </tr>\n",
              "    <tr>\n",
              "      <th>250037</th>\n",
              "      <td>0</td>\n",
              "      <td>Prior to this release, Neil LaBute had this to...</td>\n",
              "    </tr>\n",
              "    <tr>\n",
              "      <th>250038</th>\n",
              "      <td>0</td>\n",
              "      <td>Ugly, heartless Hollywood crap that expects no...</td>\n",
              "    </tr>\n",
              "    <tr>\n",
              "      <th>250039</th>\n",
              "      <td>0</td>\n",
              "      <td>What was Steven Seagal thinking? I mean firstl...</td>\n",
              "    </tr>\n",
              "    <tr>\n",
              "      <th>252232</th>\n",
              "      <td>1</td>\n",
              "      <td>has done it throughout his entire life. Sam L...</td>\n",
              "    </tr>\n",
              "  </tbody>\n",
              "</table>\n",
              "</div>"
            ],
            "text/plain": [
              "        mod_sentiment                                         mod_review\n",
              "250036              1  As a father of four in his forties I thought t...\n",
              "250037              0  Prior to this release, Neil LaBute had this to...\n",
              "250038              0  Ugly, heartless Hollywood crap that expects no...\n",
              "250039              0  What was Steven Seagal thinking? I mean firstl...\n",
              "252232              1   has done it throughout his entire life. Sam L..."
            ]
          },
          "metadata": {},
          "execution_count": 33
        }
      ]
    },
    {
      "cell_type": "code",
      "metadata": {
        "colab": {
          "base_uri": "https://localhost:8080/",
          "height": 388
        },
        "id": "3EMuAnY4KGSJ",
        "outputId": "e0bdf49c-8639-409c-b468-4c0dc6adf1c5"
      },
      "source": [
        "collated_df.describe(include='all')"
      ],
      "execution_count": null,
      "outputs": [
        {
          "output_type": "execute_result",
          "data": {
            "text/html": [
              "<div>\n",
              "<style scoped>\n",
              "    .dataframe tbody tr th:only-of-type {\n",
              "        vertical-align: middle;\n",
              "    }\n",
              "\n",
              "    .dataframe tbody tr th {\n",
              "        vertical-align: top;\n",
              "    }\n",
              "\n",
              "    .dataframe thead th {\n",
              "        text-align: right;\n",
              "    }\n",
              "</style>\n",
              "<table border=\"1\" class=\"dataframe\">\n",
              "  <thead>\n",
              "    <tr style=\"text-align: right;\">\n",
              "      <th></th>\n",
              "      <th>mod_sentiment</th>\n",
              "      <th>mod_review</th>\n",
              "    </tr>\n",
              "  </thead>\n",
              "  <tbody>\n",
              "    <tr>\n",
              "      <th>count</th>\n",
              "      <td>250041.000000</td>\n",
              "      <td>250041</td>\n",
              "    </tr>\n",
              "    <tr>\n",
              "      <th>unique</th>\n",
              "      <td>NaN</td>\n",
              "      <td>250041</td>\n",
              "    </tr>\n",
              "    <tr>\n",
              "      <th>top</th>\n",
              "      <td>NaN</td>\n",
              "      <td>Those who are seating in a AC room, never face...</td>\n",
              "    </tr>\n",
              "    <tr>\n",
              "      <th>freq</th>\n",
              "      <td>NaN</td>\n",
              "      <td>1</td>\n",
              "    </tr>\n",
              "    <tr>\n",
              "      <th>mean</th>\n",
              "      <td>0.527154</td>\n",
              "      <td>NaN</td>\n",
              "    </tr>\n",
              "    <tr>\n",
              "      <th>std</th>\n",
              "      <td>0.499263</td>\n",
              "      <td>NaN</td>\n",
              "    </tr>\n",
              "    <tr>\n",
              "      <th>min</th>\n",
              "      <td>0.000000</td>\n",
              "      <td>NaN</td>\n",
              "    </tr>\n",
              "    <tr>\n",
              "      <th>25%</th>\n",
              "      <td>0.000000</td>\n",
              "      <td>NaN</td>\n",
              "    </tr>\n",
              "    <tr>\n",
              "      <th>50%</th>\n",
              "      <td>1.000000</td>\n",
              "      <td>NaN</td>\n",
              "    </tr>\n",
              "    <tr>\n",
              "      <th>75%</th>\n",
              "      <td>1.000000</td>\n",
              "      <td>NaN</td>\n",
              "    </tr>\n",
              "    <tr>\n",
              "      <th>max</th>\n",
              "      <td>1.000000</td>\n",
              "      <td>NaN</td>\n",
              "    </tr>\n",
              "  </tbody>\n",
              "</table>\n",
              "</div>"
            ],
            "text/plain": [
              "        mod_sentiment                                         mod_review\n",
              "count   250041.000000                                             250041\n",
              "unique            NaN                                             250041\n",
              "top               NaN  Those who are seating in a AC room, never face...\n",
              "freq              NaN                                                  1\n",
              "mean         0.527154                                                NaN\n",
              "std          0.499263                                                NaN\n",
              "min          0.000000                                                NaN\n",
              "25%          0.000000                                                NaN\n",
              "50%          1.000000                                                NaN\n",
              "75%          1.000000                                                NaN\n",
              "max          1.000000                                                NaN"
            ]
          },
          "metadata": {},
          "execution_count": 34
        }
      ]
    },
    {
      "cell_type": "markdown",
      "metadata": {
        "id": "3BnY-ZQ1KbCx"
      },
      "source": [
        "# **Preprocessing and Feature Engineering**"
      ]
    },
    {
      "cell_type": "markdown",
      "metadata": {
        "id": "7Hm0zh42EMXq"
      },
      "source": [
        "# Removing Stop Words, Punctuations and Non-English Language Words"
      ]
    },
    {
      "cell_type": "code",
      "metadata": {
        "colab": {
          "base_uri": "https://localhost:8080/"
        },
        "id": "cC7FFli7ELLL",
        "outputId": "b4bd99d8-48f9-4658-bd49-aacd6b0cdbca"
      },
      "source": [
        "import nltk\n",
        "nltk.download('stopwords')\n",
        "nltk.download('words')\n",
        "\n",
        "import string\n",
        "from nltk.corpus import stopwords\n",
        "from nltk.corpus import words"
      ],
      "execution_count": null,
      "outputs": [
        {
          "output_type": "stream",
          "name": "stdout",
          "text": [
            "[nltk_data] Downloading package stopwords to /root/nltk_data...\n",
            "[nltk_data]   Package stopwords is already up-to-date!\n",
            "[nltk_data] Downloading package words to /root/nltk_data...\n",
            "[nltk_data]   Package words is already up-to-date!\n"
          ]
        }
      ]
    },
    {
      "cell_type": "code",
      "metadata": {
        "id": "2PQJyTtlfMUH"
      },
      "source": [
        "words_vocab = set(words.words())\n",
        "stoppers = set(stopwords.words(\"english\"))"
      ],
      "execution_count": null,
      "outputs": []
    },
    {
      "cell_type": "code",
      "metadata": {
        "id": "mjAUWlVsFx9Y"
      },
      "source": [
        "#Removing Stop Words and Punctuations\n",
        "def text_process(re):\n",
        "    #Removing punctuations\n",
        "    nopunc = [char for char in re if char not in string.punctuation]\n",
        "    nopunc = ''.join(nopunc)\n",
        "\n",
        "    #Removing numbers\n",
        "    nonum = ''.join([i for i in nopunc if not i.isdigit()])\n",
        "\n",
        "    #Removing stop words\n",
        "    nostop = ' '.join([word for word in nonum.split() if word.lower() not in stoppers])\n",
        "\n",
        "    #removing gibberish terms\n",
        "    return ' '.join([w.lower() for w in nostop.split() if w.lower() in words_vocab])"
      ],
      "execution_count": null,
      "outputs": []
    },
    {
      "cell_type": "code",
      "metadata": {
        "id": "PN5EyveLF60C"
      },
      "source": [
        "collated_df['processed_review'] = collated_df['mod_review'].apply(text_process)"
      ],
      "execution_count": null,
      "outputs": []
    },
    {
      "cell_type": "code",
      "metadata": {
        "colab": {
          "base_uri": "https://localhost:8080/",
          "height": 204
        },
        "id": "ieochZE2rRYN",
        "outputId": "1e0749c5-3a06-4150-96c2-ff90ba2e889f"
      },
      "source": [
        "collated_df.head()"
      ],
      "execution_count": null,
      "outputs": [
        {
          "output_type": "execute_result",
          "data": {
            "text/html": [
              "<div>\n",
              "<style scoped>\n",
              "    .dataframe tbody tr th:only-of-type {\n",
              "        vertical-align: middle;\n",
              "    }\n",
              "\n",
              "    .dataframe tbody tr th {\n",
              "        vertical-align: top;\n",
              "    }\n",
              "\n",
              "    .dataframe thead th {\n",
              "        text-align: right;\n",
              "    }\n",
              "</style>\n",
              "<table border=\"1\" class=\"dataframe\">\n",
              "  <thead>\n",
              "    <tr style=\"text-align: right;\">\n",
              "      <th></th>\n",
              "      <th>mod_sentiment</th>\n",
              "      <th>mod_review</th>\n",
              "      <th>processed_review</th>\n",
              "    </tr>\n",
              "  </thead>\n",
              "  <tbody>\n",
              "    <tr>\n",
              "      <th>0</th>\n",
              "      <td>1</td>\n",
              "      <td>Hakuna Matata. What a wonderful phrase. Hakuna...</td>\n",
              "      <td>wonderful phrase aint passing phrase lion king...</td>\n",
              "    </tr>\n",
              "    <tr>\n",
              "      <th>1</th>\n",
              "      <td>1</td>\n",
              "      <td>Obviously a second attempt at the Hugh Glass s...</td>\n",
              "      <td>obviously second attempt glass story man wilde...</td>\n",
              "    </tr>\n",
              "    <tr>\n",
              "      <th>2</th>\n",
              "      <td>0</td>\n",
              "      <td>If some studio head, or person who was ivolved...</td>\n",
              "      <td>studio head person film ever must apologize ha...</td>\n",
              "    </tr>\n",
              "    <tr>\n",
              "      <th>3</th>\n",
              "      <td>1</td>\n",
              "      <td>Rocknrolla rocked me big time. I fall for ever...</td>\n",
              "      <td>big time fall everything organized crime time ...</td>\n",
              "    </tr>\n",
              "    <tr>\n",
              "      <th>4</th>\n",
              "      <td>1</td>\n",
              "      <td>Finally, harry potter has a better movie than ...</td>\n",
              "      <td>finally harry potter better movie book</td>\n",
              "    </tr>\n",
              "  </tbody>\n",
              "</table>\n",
              "</div>"
            ],
            "text/plain": [
              "   mod_sentiment  ...                                   processed_review\n",
              "0              1  ...  wonderful phrase aint passing phrase lion king...\n",
              "1              1  ...  obviously second attempt glass story man wilde...\n",
              "2              0  ...  studio head person film ever must apologize ha...\n",
              "3              1  ...  big time fall everything organized crime time ...\n",
              "4              1  ...             finally harry potter better movie book\n",
              "\n",
              "[5 rows x 3 columns]"
            ]
          },
          "metadata": {},
          "execution_count": 39
        }
      ]
    },
    {
      "cell_type": "markdown",
      "metadata": {
        "id": "q4lgGKfTrpbc"
      },
      "source": [
        "# Lemmatization"
      ]
    },
    {
      "cell_type": "code",
      "metadata": {
        "colab": {
          "base_uri": "https://localhost:8080/"
        },
        "id": "ag07fFZsvu2N",
        "outputId": "c5d7ba42-b61d-4b5e-a6a2-4e6e166fed0d"
      },
      "source": [
        "nltk.download('wordnet')\n",
        "from nltk.stem import WordNetLemmatizer\n",
        "wnl = WordNetLemmatizer()\n",
        "\n",
        "def lemma(text):    \n",
        "    text = [wnl.lemmatize(word) for word in text.split()]\n",
        "    return ' '.join(text)"
      ],
      "execution_count": null,
      "outputs": [
        {
          "output_type": "stream",
          "name": "stdout",
          "text": [
            "[nltk_data] Downloading package wordnet to /root/nltk_data...\n",
            "[nltk_data]   Package wordnet is already up-to-date!\n"
          ]
        }
      ]
    },
    {
      "cell_type": "code",
      "metadata": {
        "id": "8Kp2yjy9wWnl"
      },
      "source": [
        "collated_df['processed_review'] = collated_df['processed_review'].apply(lemma)"
      ],
      "execution_count": null,
      "outputs": []
    },
    {
      "cell_type": "code",
      "metadata": {
        "colab": {
          "base_uri": "https://localhost:8080/",
          "height": 204
        },
        "id": "kkdqrdgdx-kj",
        "outputId": "07609aeb-e1d6-4256-aac6-c450bd25cbdf"
      },
      "source": [
        "collated_df.head()"
      ],
      "execution_count": null,
      "outputs": [
        {
          "output_type": "execute_result",
          "data": {
            "text/html": [
              "<div>\n",
              "<style scoped>\n",
              "    .dataframe tbody tr th:only-of-type {\n",
              "        vertical-align: middle;\n",
              "    }\n",
              "\n",
              "    .dataframe tbody tr th {\n",
              "        vertical-align: top;\n",
              "    }\n",
              "\n",
              "    .dataframe thead th {\n",
              "        text-align: right;\n",
              "    }\n",
              "</style>\n",
              "<table border=\"1\" class=\"dataframe\">\n",
              "  <thead>\n",
              "    <tr style=\"text-align: right;\">\n",
              "      <th></th>\n",
              "      <th>mod_sentiment</th>\n",
              "      <th>mod_review</th>\n",
              "      <th>processed_review</th>\n",
              "    </tr>\n",
              "  </thead>\n",
              "  <tbody>\n",
              "    <tr>\n",
              "      <th>0</th>\n",
              "      <td>1</td>\n",
              "      <td>Hakuna Matata. What a wonderful phrase. Hakuna...</td>\n",
              "      <td>wonderful phrase aint passing phrase lion king...</td>\n",
              "    </tr>\n",
              "    <tr>\n",
              "      <th>1</th>\n",
              "      <td>1</td>\n",
              "      <td>Obviously a second attempt at the Hugh Glass s...</td>\n",
              "      <td>obviously second attempt glass story man wilde...</td>\n",
              "    </tr>\n",
              "    <tr>\n",
              "      <th>2</th>\n",
              "      <td>0</td>\n",
              "      <td>If some studio head, or person who was ivolved...</td>\n",
              "      <td>studio head person film ever must apologize ha...</td>\n",
              "    </tr>\n",
              "    <tr>\n",
              "      <th>3</th>\n",
              "      <td>1</td>\n",
              "      <td>Rocknrolla rocked me big time. I fall for ever...</td>\n",
              "      <td>big time fall everything organized crime time ...</td>\n",
              "    </tr>\n",
              "    <tr>\n",
              "      <th>4</th>\n",
              "      <td>1</td>\n",
              "      <td>Finally, harry potter has a better movie than ...</td>\n",
              "      <td>finally harry potter better movie book</td>\n",
              "    </tr>\n",
              "  </tbody>\n",
              "</table>\n",
              "</div>"
            ],
            "text/plain": [
              "   mod_sentiment  ...                                   processed_review\n",
              "0              1  ...  wonderful phrase aint passing phrase lion king...\n",
              "1              1  ...  obviously second attempt glass story man wilde...\n",
              "2              0  ...  studio head person film ever must apologize ha...\n",
              "3              1  ...  big time fall everything organized crime time ...\n",
              "4              1  ...             finally harry potter better movie book\n",
              "\n",
              "[5 rows x 3 columns]"
            ]
          },
          "metadata": {},
          "execution_count": 42
        }
      ]
    },
    {
      "cell_type": "markdown",
      "metadata": {
        "id": "4c4JifN_yujv"
      },
      "source": [
        "# **Exploratory Analysis**"
      ]
    },
    {
      "cell_type": "code",
      "metadata": {
        "colab": {
          "base_uri": "https://localhost:8080/",
          "height": 496
        },
        "id": "Zsi2OYQAyztg",
        "outputId": "ac0fe674-b492-4aab-8f69-78de5e1effdc"
      },
      "source": [
        "plt.figure(figsize=(10,7))\n",
        "ax=sns.countplot(x=collated_df['mod_sentiment'])\n",
        "ax.set_title('Label Representation', fontsize=25,fontweight='bold')\n",
        "plt.xticks(fontsize=15,rotation=25)"
      ],
      "execution_count": null,
      "outputs": [
        {
          "output_type": "execute_result",
          "data": {
            "text/plain": [
              "(array([0, 1]), <a list of 2 Text major ticklabel objects>)"
            ]
          },
          "metadata": {},
          "execution_count": 43
        },
        {
          "output_type": "display_data",
          "data": {
            "image/png": "[encoded data removed]",
            "text/plain": [
              "<Figure size 720x504 with 1 Axes>"
            ]
          },
          "metadata": {
            "needs_background": "light"
          }
        }
      ]
    },
    {
      "cell_type": "markdown",
      "metadata": {
        "id": "V7Dozea56FX9"
      },
      "source": [
        "* **There is a very slight imbalance in the dataset**"
      ]
    },
    {
      "cell_type": "code",
      "metadata": {
        "id": "P6K7ghe851ES"
      },
      "source": [
        "collated_df['length']=collated_df['processed_review'].apply(lambda x: len(x.split()))"
      ],
      "execution_count": null,
      "outputs": []
    },
    {
      "cell_type": "code",
      "metadata": {
        "colab": {
          "base_uri": "https://localhost:8080/",
          "height": 508
        },
        "id": "5tFjF1qF6sgB",
        "outputId": "5df05e03-7719-4402-a3b2-503febb1b610"
      },
      "source": [
        "plt.figure(figsize=(10,7))\n",
        "ax = collated_df['length'].plot(bins=30,kind='hist')\n",
        "ax.set_title(\"Review's Length Representation\", fontsize=25,fontweight='bold')\n",
        "plt.xticks(fontsize=15,rotation=25)"
      ],
      "execution_count": null,
      "outputs": [
        {
          "output_type": "execute_result",
          "data": {
            "text/plain": [
              "(array([-200.,    0.,  200.,  400.,  600.,  800., 1000., 1200.]),\n",
              " <a list of 8 Text major ticklabel objects>)"
            ]
          },
          "metadata": {},
          "execution_count": 45
        },
        {
          "output_type": "display_data",
          "data": {
            "image/png": "[encoded data removed]",
            "text/plain": [
              "<Figure size 720x504 with 1 Axes>"
            ]
          },
          "metadata": {
            "needs_background": "light"
          }
        }
      ]
    },
    {
      "cell_type": "code",
      "metadata": {
        "colab": {
          "base_uri": "https://localhost:8080/"
        },
        "id": "wLLsC0XF7S9T",
        "outputId": "e64bf0e6-e156-4fbd-e70d-0e3b748a96b3"
      },
      "source": [
        "collated_df['length'].describe()"
      ],
      "execution_count": null,
      "outputs": [
        {
          "output_type": "execute_result",
          "data": {
            "text/plain": [
              "count    250041.000000\n",
              "mean         83.635192\n",
              "std          72.343530\n",
              "min           0.000000\n",
              "25%          40.000000\n",
              "50%          61.000000\n",
              "75%         104.000000\n",
              "max        1029.000000\n",
              "Name: length, dtype: float64"
            ]
          },
          "metadata": {},
          "execution_count": 46
        }
      ]
    },
    {
      "cell_type": "code",
      "metadata": {
        "colab": {
          "base_uri": "https://localhost:8080/"
        },
        "id": "PdS9Db64OMpB",
        "outputId": "b609b4ac-3d27-4396-d4d1-1e15a4068ae2"
      },
      "source": [
        "len(collated_df[collated_df['length']<5])"
      ],
      "execution_count": null,
      "outputs": [
        {
          "output_type": "execute_result",
          "data": {
            "text/plain": [
              "1782"
            ]
          },
          "metadata": {},
          "execution_count": 47
        }
      ]
    },
    {
      "cell_type": "code",
      "metadata": {
        "colab": {
          "base_uri": "https://localhost:8080/"
        },
        "id": "orpOnvxAPUYN",
        "outputId": "6ca24f4d-2f34-4e1d-f326-4b85140c9a36"
      },
      "source": [
        "gibber_percent = round(len(collated_df[collated_df['length']<5])/len(collated_df) * 100,2)\n",
        "print(f'{gibber_percent} %')"
      ],
      "execution_count": null,
      "outputs": [
        {
          "output_type": "stream",
          "name": "stdout",
          "text": [
            "0.71 %\n"
          ]
        }
      ]
    },
    {
      "cell_type": "markdown",
      "metadata": {
        "id": "JW_F8yRhO5yk"
      },
      "source": [
        "* **These reviews have words, which are either gibberish or very specific. Thus, they would not help in generalizing the model. As a result, we will get rid of these instances**"
      ]
    },
    {
      "cell_type": "code",
      "metadata": {
        "colab": {
          "base_uri": "https://localhost:8080/"
        },
        "id": "Nk2nGU-HSOAJ",
        "outputId": "1813e75b-c517-4682-d5bd-3a80d8c32109"
      },
      "source": [
        "gibber_list = collated_df[collated_df['length']<5].index.to_list()\n",
        "len(gibber_list)"
      ],
      "execution_count": null,
      "outputs": [
        {
          "output_type": "execute_result",
          "data": {
            "text/plain": [
              "1782"
            ]
          },
          "metadata": {},
          "execution_count": 49
        }
      ]
    },
    {
      "cell_type": "code",
      "metadata": {
        "colab": {
          "base_uri": "https://localhost:8080/"
        },
        "id": "8-J_X7F1S5No",
        "outputId": "6a508f6e-fb79-404d-af54-f9d9a3c53ad1"
      },
      "source": [
        "collated_df.drop(collated_df.index[gibber_list], inplace=True)  #Removing Gibberish instances\n",
        "len(df[df['mod_sentiment'].isnull()].index.to_list())"
      ],
      "execution_count": null,
      "outputs": [
        {
          "output_type": "execute_result",
          "data": {
            "text/plain": [
              "0"
            ]
          },
          "metadata": {},
          "execution_count": 50
        }
      ]
    },
    {
      "cell_type": "code",
      "metadata": {
        "colab": {
          "base_uri": "https://localhost:8080/"
        },
        "id": "zeoql9ilTCk6",
        "outputId": "2c7452af-a721-4140-da41-f1cc3f3677c5"
      },
      "source": [
        "collated_df['length'].describe()"
      ],
      "execution_count": null,
      "outputs": [
        {
          "output_type": "execute_result",
          "data": {
            "text/plain": [
              "count    248259.000000\n",
              "mean         84.211590\n",
              "std          72.280906\n",
              "min           5.000000\n",
              "25%          41.000000\n",
              "50%          62.000000\n",
              "75%         104.000000\n",
              "max        1029.000000\n",
              "Name: length, dtype: float64"
            ]
          },
          "metadata": {},
          "execution_count": 51
        }
      ]
    },
    {
      "cell_type": "markdown",
      "metadata": {
        "id": "Eiu_8BCR9Uf1"
      },
      "source": [
        "* **There are few reviews with a lot of words, which are affecting the standard deviation and mean**\n",
        "* **While vectorizing we will fix maximum number of samples, closer to the median value of length. This will ensure, better generalization**"
      ]
    },
    {
      "cell_type": "code",
      "metadata": {
        "colab": {
          "base_uri": "https://localhost:8080/",
          "height": 204
        },
        "id": "kGZVrjE1VD2B",
        "outputId": "d7a58104-7c73-48db-c609-f87f19e7d5b4"
      },
      "source": [
        "collated_df.head()"
      ],
      "execution_count": null,
      "outputs": [
        {
          "output_type": "execute_result",
          "data": {
            "text/html": [
              "<div>\n",
              "<style scoped>\n",
              "    .dataframe tbody tr th:only-of-type {\n",
              "        vertical-align: middle;\n",
              "    }\n",
              "\n",
              "    .dataframe tbody tr th {\n",
              "        vertical-align: top;\n",
              "    }\n",
              "\n",
              "    .dataframe thead th {\n",
              "        text-align: right;\n",
              "    }\n",
              "</style>\n",
              "<table border=\"1\" class=\"dataframe\">\n",
              "  <thead>\n",
              "    <tr style=\"text-align: right;\">\n",
              "      <th></th>\n",
              "      <th>mod_sentiment</th>\n",
              "      <th>mod_review</th>\n",
              "      <th>processed_review</th>\n",
              "      <th>length</th>\n",
              "    </tr>\n",
              "  </thead>\n",
              "  <tbody>\n",
              "    <tr>\n",
              "      <th>0</th>\n",
              "      <td>1</td>\n",
              "      <td>Hakuna Matata. What a wonderful phrase. Hakuna...</td>\n",
              "      <td>wonderful phrase aint passing phrase lion king...</td>\n",
              "      <td>45</td>\n",
              "    </tr>\n",
              "    <tr>\n",
              "      <th>1</th>\n",
              "      <td>1</td>\n",
              "      <td>Obviously a second attempt at the Hugh Glass s...</td>\n",
              "      <td>obviously second attempt glass story man wilde...</td>\n",
              "      <td>26</td>\n",
              "    </tr>\n",
              "    <tr>\n",
              "      <th>2</th>\n",
              "      <td>0</td>\n",
              "      <td>If some studio head, or person who was ivolved...</td>\n",
              "      <td>studio head person film ever must apologize ha...</td>\n",
              "      <td>99</td>\n",
              "    </tr>\n",
              "    <tr>\n",
              "      <th>3</th>\n",
              "      <td>1</td>\n",
              "      <td>Rocknrolla rocked me big time. I fall for ever...</td>\n",
              "      <td>big time fall everything organized crime time ...</td>\n",
              "      <td>51</td>\n",
              "    </tr>\n",
              "    <tr>\n",
              "      <th>4</th>\n",
              "      <td>1</td>\n",
              "      <td>Finally, harry potter has a better movie than ...</td>\n",
              "      <td>finally harry potter better movie book</td>\n",
              "      <td>6</td>\n",
              "    </tr>\n",
              "  </tbody>\n",
              "</table>\n",
              "</div>"
            ],
            "text/plain": [
              "   mod_sentiment  ... length\n",
              "0              1  ...     45\n",
              "1              1  ...     26\n",
              "2              0  ...     99\n",
              "3              1  ...     51\n",
              "4              1  ...      6\n",
              "\n",
              "[5 rows x 4 columns]"
            ]
          },
          "metadata": {},
          "execution_count": 52
        }
      ]
    },
    {
      "cell_type": "markdown",
      "metadata": {
        "id": "lLj43zjdUIjy"
      },
      "source": [
        "# **Train-Test Split and Vectorization**"
      ]
    },
    {
      "cell_type": "code",
      "metadata": {
        "id": "aox5qZw_b-4I"
      },
      "source": [
        "from sklearn.model_selection import train_test_split\n",
        "X_train,X_test,y_train,y_test = train_test_split(collated_df['processed_review'],collated_df['mod_sentiment'],test_size=0.2)"
      ],
      "execution_count": null,
      "outputs": []
    },
    {
      "cell_type": "code",
      "metadata": {
        "id": "GyD_3yxBUMvf"
      },
      "source": [
        "from sklearn.feature_extraction.text import TfidfVectorizer\n",
        "\n",
        "vectorizer = TfidfVectorizer(ngram_range = (1,3),max_features = 200,sublinear_tf = True)\n",
        "X_train = vectorizer.fit_transform(X_train).toarray()\n",
        "X_test = vectorizer.transform(X_test).toarray()"
      ],
      "execution_count": null,
      "outputs": []
    },
    {
      "cell_type": "markdown",
      "metadata": {
        "id": "Qh3GeQ_vmwGs"
      },
      "source": [
        "# **Training and Evaluation**"
      ]
    },
    {
      "cell_type": "markdown",
      "metadata": {
        "id": "jpHe0ERq5spI"
      },
      "source": [
        "#Approach: \n",
        "* **Although we do not expect linearity, we do not exactly know the patterns in the dataset. Since we have a large quantity of data and potential non-linearities, we can expect XGBOOST to perform well.**\n",
        "* **In order to evaluate this hypothesis, let us, first evaluate raw performance of different models. Latter on, we will fine-tune, best performing models using CV and hyper-parameter tunning.**"
      ]
    },
    {
      "cell_type": "code",
      "metadata": {
        "id": "qKDws_cioUI9"
      },
      "source": [
        "from sklearn.linear_model import LogisticRegression\n",
        "from sklearn.svm import SVC\n",
        "from sklearn.neighbors import KNeighborsClassifier\n",
        "from sklearn.naive_bayes import GaussianNB\n",
        "from sklearn.ensemble import RandomForestClassifier\n",
        "from xgboost import XGBClassifier\n",
        "\n",
        "from sklearn.metrics import classification_report, confusion_matrix, accuracy_score, f1_score, recall_score, precision_score, roc_auc_score\n",
        "\n",
        "from sklearn.model_selection import GridSearchCV\n",
        "from sklearn.model_selection import RandomizedSearchCV\n",
        "from sklearn.model_selection import RepeatedStratifiedKFold"
      ],
      "execution_count": null,
      "outputs": []
    },
    {
      "cell_type": "code",
      "metadata": {
        "id": "7g_cs4s2TD1E"
      },
      "source": [
        "report = pd.DataFrame(columns = ['logistic_regression','random_forest','gaussian_naive_bayes','XGBOOST'], index = ['test_acc','train_acc','test_precision','train_precision','test_recall','train_recall','test_f1-score','train_f1-score','test_auc','train_auc'])"
      ],
      "execution_count": null,
      "outputs": []
    },
    {
      "cell_type": "code",
      "metadata": {
        "id": "KLbswsU4S3qY"
      },
      "source": [
        "#Generating Evaluation Matrix\n",
        "def evaluator(y_acc_test,y_acc_train,y_predicts_test,y_predicts_train,classifier_name,y_test_prob,y_train_prob):\n",
        "  train_accuracy = accuracy_score(y_acc_train,y_predicts_train)\n",
        "  test_accuracy = accuracy_score(y_acc_test,y_predicts_test)\n",
        "\n",
        "  train_cm = confusion_matrix(y_acc_train,y_predicts_train)\n",
        "  test_cm = confusion_matrix(y_acc_test,y_predicts_test )\n",
        "\n",
        "  prec_train = train_cm[1][1]/(train_cm[1][1] + train_cm[0][1])\n",
        "  prec_test = test_cm[1][1]/(test_cm[1][1] + test_cm[0][1])\n",
        "\n",
        "  recall_train = train_cm[1][1]/(train_cm[1][0] + train_cm[1][1])\n",
        "  recall_test = test_cm[1][1]/(test_cm[1][0] + test_cm[1][1])\n",
        "\n",
        "  f1_train = (2*prec_train*recall_train)/(recall_train + prec_train)\n",
        "  f1_test = (2*prec_test*recall_test)/(recall_test + prec_test)\n",
        "\n",
        "  auc_train = roc_auc_score(y_acc_train,y_train_prob)\n",
        "  auc_test = roc_auc_score(y_acc_test,y_test_prob)\n",
        "\n",
        "  eval_list = [test_accuracy,train_accuracy,prec_test,prec_train,recall_test,recall_train,f1_test,f1_train,auc_test,auc_train]\n",
        "  \n",
        "  report[classifier_name] = eval_list"
      ],
      "execution_count": null,
      "outputs": []
    },
    {
      "cell_type": "code",
      "metadata": {
        "id": "-TTAq7jDnVMc"
      },
      "source": [
        "#base model pipeline\n",
        "def model_result(train_X,train_y,test_X,test_y):\n",
        "\n",
        "  #Applying Logistic Regression:\n",
        "\n",
        "  model = LogisticRegression()\n",
        "  model.fit(train_X, train_y)\n",
        "\n",
        "  lr_class_train_pred = model.predict(train_X)\n",
        "  lr_class_test_pred = model.predict(test_X)\n",
        "\n",
        "  lr_prob_train_pred = model.predict_proba(train_X)[:,1]\n",
        "  lr_prob_test_pred = model.predict_proba(test_X)[:,1]\n",
        "\n",
        "\n",
        "\n",
        "# #X----------------------------------------------------------------------------------------------------------------------X#\n",
        "\n",
        "\n",
        "#   #Applying SVM\n",
        "#   svm_clf = SVC(probability=True)\n",
        "#   svm_clf.fit(train_X,train_y)\n",
        "  \n",
        "#   svm_class_train_pred = svm_clf.predict(train_X)\n",
        "#   svm_class_test_pred = svm_clf.predict(test_X)\n",
        "\n",
        "#   svm_prob_train_pred = svm_clf.predict_proba(train_X)[:,1]\n",
        "#   svm_prob_test_pred = svm_clf.predict_proba(test_X)[:,1]\n",
        "\n",
        "\n",
        "\n",
        "# #X----------------------------------------------------------------------------------------------------------------------X#\n",
        "\n",
        "#   #Applying KNN\n",
        "#   knn = KNeighborsClassifier(n_neighbors=2,weights='uniform').fit(train_X,train_y)\n",
        "#   knn_class_train_pred = knn.predict(train_X)\n",
        "#   knn_class_test_pred = knn.predict(test_X)\n",
        "\n",
        "#   knn_prob_train_pred = knn.predict_proba(train_X)[:,1]\n",
        "#   knn_prob_test_pred = knn.predict_proba(test_X)[:,1]\n",
        "\n",
        "\n",
        "#X----------------------------------------------------------------------------------------------------------------------X#    \n",
        "\n",
        "  #Applying Naive Bayes\n",
        "  nbc = GaussianNB().fit(train_X, train_y)\n",
        "  nbc_class_train_pred = nbc.predict(train_X)\n",
        "  nbc_class_test_pred = nbc.predict(test_X)\n",
        "  \n",
        "  nbc_prob_train_pred = nbc.predict_proba(train_X)[:,1]\n",
        "  nbc_prob_test_pred = nbc.predict_proba(test_X)[:,1]\n",
        "\n",
        "\n",
        "\n",
        "\n",
        "#X----------------------------------------------------------------------------------------------------------------------X#\n",
        "\n",
        "\n",
        "  #Applying Random Forest\n",
        "  rf_model = RandomForestClassifier()\n",
        "\n",
        "  rf_model.fit(train_X,train_y)\n",
        "\n",
        "  rf_class_train_pred = rf_model.predict(train_X)\n",
        "  rf_class_test_pred = rf_model.predict(test_X)\n",
        "\n",
        "  rf_prob_train_pred = rf_model.predict_proba(train_X)[:,1]\n",
        "  rf_prob_test_pred = rf_model.predict_proba(test_X)[:,1]\n",
        "\n",
        "\n",
        "#X----------------------------------------------------------------------------------------------------------------------X#\n",
        "\n",
        "  #Applying XGBoost\n",
        "  clf_xgb = XGBClassifier()\n",
        "  clf_xgb.fit(train_X,train_y)\n",
        "\n",
        "  xg_class_train_pred = clf_xgb.predict(train_X)\n",
        "  xg_class_test_pred = clf_xgb.predict(test_X)\n",
        "\n",
        "  xg_prob_train_pred = clf_xgb.predict_proba(train_X)[:,1]\n",
        "  xg_prob_test_pred = clf_xgb.predict_proba(test_X)[:,1]\n",
        "\n",
        "\n",
        "#X----------------------------------------------------------------------------------------------------------------------X#\n",
        "\n",
        "\n",
        "  #Applying DNN\n",
        "  # batch_size = 512\n",
        "  # train_ds = tf.data.Dataset.from_tensor_slices((train_X, train_y)).shuffle(len(train_X)).batch(batch_size)\n",
        "  # val_ds = tf.data.Dataset.from_tensor_slices((test_X, test_y)).batch(batch_size)\n",
        "\n",
        "  # model = keras.Sequential([\n",
        "  #     keras.layers.Flatten(input_shape=[X_train.shape[-1]]),\n",
        "  #     keras.layers.Dense(512, activation='relu'),\n",
        "  #     keras.layers.Dense(256, activation='relu'),\n",
        "  #     keras.layers.Dense(128, activation='relu'),\n",
        "  #     keras.layers.Dense(64, activation='relu'),\n",
        "  #     keras.layers.Dense(32, activation='relu'),\n",
        "  #     keras.layers.Dropout(0.5),\n",
        "  #     keras.layers.Dense(9, activation='softmax')\n",
        "  # ])\n",
        "  # model.compile(optimizer='adam', \n",
        "  #               loss='sparse_categorical_crossentropy',\n",
        "  #               metrics=['accuracy'])\n",
        "\n",
        "  # fit = model.fit(train_ds, validation_data=val_ds, epochs=200)\n",
        "\n",
        "  # dnn_class_train_preds = np.argmax(model.predict(train_X),axis=-1)\n",
        "  # dnn_class_test_preds = np.argmax(model.predict(test_X),axis=-1)\n",
        "  # dnn_prob_train_pred = np.argmax(model.predict_proba(train_X),axis=-1)\n",
        "  # dnn_prob_test_pred = np.argmax(model.predict_proba(train_X),axis=-1)\n",
        "\n",
        "\n",
        "#X----------------------------------------------------------------------------------------------------------------------X#\n",
        "\n",
        "  #Calling the fuction to conduct evaluation\n",
        "  evaluator(test_y,train_y,lr_class_test_pred,lr_class_train_pred,'logistic_regression',lr_prob_test_pred,lr_prob_train_pred)\n",
        "  evaluator(test_y,train_y,rf_class_test_pred,rf_class_train_pred,'random_forest',rf_prob_test_pred,rf_prob_train_pred)\n",
        "  evaluator(test_y,train_y,nbc_class_test_pred,nbc_class_train_pred,'gaussian_naive_bayes',nbc_prob_test_pred,nbc_prob_train_pred)\n",
        "  evaluator(test_y,train_y,xg_class_test_pred,xg_class_train_pred,'XGBOOST',xg_prob_test_pred,xg_prob_train_pred)\n",
        "\n",
        "  #evaluator(test_y,train_y,knn_class_test_pred,knn_class_train_pred,'KNN',knn_prob_test_pred,knn_prob_train_pred)\n",
        "  #evaluator(test_y,train_y,svm_class_test_pred,svm_class_train_pred,'SVM',svm_prob_test_pred,svm_prob_train_pred)\n",
        "  #evaluator(test_y,train_y,dnn_prob_test_pred,dnn_prob_train_pred,'DNN',dnn_class_test_pred,dnn_class_train_pred)"
      ],
      "execution_count": null,
      "outputs": []
    },
    {
      "cell_type": "code",
      "metadata": {
        "id": "1KXDi4ZRnfsE"
      },
      "source": [
        "model_result(X_train,y_train,X_test,y_test)"
      ],
      "execution_count": null,
      "outputs": []
    },
    {
      "cell_type": "code",
      "metadata": {
        "colab": {
          "base_uri": "https://localhost:8080/",
          "height": 358
        },
        "id": "PWv-l5JX3TiP",
        "outputId": "42780365-deb1-4478-a740-be1d37a09448"
      },
      "source": [
        "report"
      ],
      "execution_count": null,
      "outputs": [
        {
          "output_type": "execute_result",
          "data": {
            "text/html": [
              "<div>\n",
              "<style scoped>\n",
              "    .dataframe tbody tr th:only-of-type {\n",
              "        vertical-align: middle;\n",
              "    }\n",
              "\n",
              "    .dataframe tbody tr th {\n",
              "        vertical-align: top;\n",
              "    }\n",
              "\n",
              "    .dataframe thead th {\n",
              "        text-align: right;\n",
              "    }\n",
              "</style>\n",
              "<table border=\"1\" class=\"dataframe\">\n",
              "  <thead>\n",
              "    <tr style=\"text-align: right;\">\n",
              "      <th></th>\n",
              "      <th>logistic_regression</th>\n",
              "      <th>random_forest</th>\n",
              "      <th>gaussian_naive_bayes</th>\n",
              "      <th>XGBOOST</th>\n",
              "    </tr>\n",
              "  </thead>\n",
              "  <tbody>\n",
              "    <tr>\n",
              "      <th>test_acc</th>\n",
              "      <td>0.810139</td>\n",
              "      <td>0.795718</td>\n",
              "      <td>0.786393</td>\n",
              "      <td>0.779062</td>\n",
              "    </tr>\n",
              "    <tr>\n",
              "      <th>train_acc</th>\n",
              "      <td>0.808662</td>\n",
              "      <td>0.998394</td>\n",
              "      <td>0.787001</td>\n",
              "      <td>0.783205</td>\n",
              "    </tr>\n",
              "    <tr>\n",
              "      <th>test_precision</th>\n",
              "      <td>0.811204</td>\n",
              "      <td>0.796101</td>\n",
              "      <td>0.805359</td>\n",
              "      <td>0.762299</td>\n",
              "    </tr>\n",
              "    <tr>\n",
              "      <th>train_precision</th>\n",
              "      <td>0.811559</td>\n",
              "      <td>0.998186</td>\n",
              "      <td>0.807673</td>\n",
              "      <td>0.765999</td>\n",
              "    </tr>\n",
              "    <tr>\n",
              "      <th>test_recall</th>\n",
              "      <td>0.831843</td>\n",
              "      <td>0.821060</td>\n",
              "      <td>0.781995</td>\n",
              "      <td>0.841398</td>\n",
              "    </tr>\n",
              "    <tr>\n",
              "      <th>train_recall</th>\n",
              "      <td>0.829540</td>\n",
              "      <td>0.998767</td>\n",
              "      <td>0.782045</td>\n",
              "      <td>0.847522</td>\n",
              "    </tr>\n",
              "    <tr>\n",
              "      <th>test_f1-score</th>\n",
              "      <td>0.821394</td>\n",
              "      <td>0.808388</td>\n",
              "      <td>0.793505</td>\n",
              "      <td>0.799898</td>\n",
              "    </tr>\n",
              "    <tr>\n",
              "      <th>train_f1-score</th>\n",
              "      <td>0.820451</td>\n",
              "      <td>0.998477</td>\n",
              "      <td>0.794653</td>\n",
              "      <td>0.804701</td>\n",
              "    </tr>\n",
              "    <tr>\n",
              "      <th>test_auc</th>\n",
              "      <td>0.892698</td>\n",
              "      <td>0.877952</td>\n",
              "      <td>0.861420</td>\n",
              "      <td>0.867742</td>\n",
              "    </tr>\n",
              "    <tr>\n",
              "      <th>train_auc</th>\n",
              "      <td>0.892331</td>\n",
              "      <td>0.999953</td>\n",
              "      <td>0.861818</td>\n",
              "      <td>0.870917</td>\n",
              "    </tr>\n",
              "  </tbody>\n",
              "</table>\n",
              "</div>"
            ],
            "text/plain": [
              "                 logistic_regression  ...   XGBOOST\n",
              "test_acc                    0.810139  ...  0.779062\n",
              "train_acc                   0.808662  ...  0.783205\n",
              "test_precision              0.811204  ...  0.762299\n",
              "train_precision             0.811559  ...  0.765999\n",
              "test_recall                 0.831843  ...  0.841398\n",
              "train_recall                0.829540  ...  0.847522\n",
              "test_f1-score               0.821394  ...  0.799898\n",
              "train_f1-score              0.820451  ...  0.804701\n",
              "test_auc                    0.892698  ...  0.867742\n",
              "train_auc                   0.892331  ...  0.870917\n",
              "\n",
              "[10 rows x 4 columns]"
            ]
          },
          "metadata": {},
          "execution_count": 60
        }
      ]
    },
    {
      "cell_type": "markdown",
      "metadata": {
        "id": "T9KYkJrN3txT"
      },
      "source": [
        "* **Random Forest, without any hyper-parameter tunning, is getting overfitted on the data.**\n",
        "* **Logistic Regression, Gaussian Naive Bayes Algorithms and XGBOOST have given a balanced performance**\n",
        "* **If we compare XGBoost with Logistic Regression Algorithm, then in the case of XGBoost, we gain 3% points of recall and loose 6% points of precision, in comparison to Logistic Regression Model**\n",
        "* **Overall F1-score of Logistic Regression Model is higher than the XGBoost model**\n",
        "* **So, we will perfrom Hyperparameter tuning for both the models to evaluate our hypothesis**"
      ]
    },
    {
      "cell_type": "markdown",
      "metadata": {
        "id": "QUh6HI0e6ix2"
      },
      "source": [
        "#**Tuning the Models**"
      ]
    },
    {
      "cell_type": "markdown",
      "metadata": {
        "id": "_kn9rSG96z5I"
      },
      "source": [
        "#Logistic Regression"
      ]
    },
    {
      "cell_type": "code",
      "metadata": {
        "id": "BGcxVnG_6mzV"
      },
      "source": [
        "model = LogisticRegression(class_weight='balanced')\n",
        "penalty = ['l2','l1']\n",
        "c_values = [100, 10, 1.0, 0.1, 0.01]\n",
        "#define grid search\n",
        "grid = dict(penalty=penalty,C=c_values)\n",
        "cv = RepeatedStratifiedKFold(n_splits=5, n_repeats=3, random_state=100)\n",
        "rs_search = RandomizedSearchCV(model,grid, n_jobs=-1,cv=cv)\n",
        "rs_result = rs_search.fit(X_train, y_train)\n",
        "\n",
        "model = rs_search.best_estimator_\n",
        "\n",
        "lr_class_train_pred = model.predict(X_train)\n",
        "lr_class_test_pred = model.predict(X_test)"
      ],
      "execution_count": null,
      "outputs": []
    },
    {
      "cell_type": "code",
      "metadata": {
        "colab": {
          "base_uri": "https://localhost:8080/"
        },
        "id": "P20ClpyE9UHR",
        "outputId": "2fbff1a9-4877-4cb6-f0e3-1323e09e2717"
      },
      "source": [
        "# Print the classification report for train and test\n",
        "print(classification_report(y_train,lr_class_train_pred))\n",
        "print(\"\\n\")\n",
        "print(classification_report(y_test,lr_class_test_pred))"
      ],
      "execution_count": null,
      "outputs": [
        {
          "output_type": "stream",
          "name": "stdout",
          "text": [
            "              precision    recall  f1-score   support\n",
            "\n",
            "           0       0.80      0.80      0.80     94167\n",
            "           1       0.82      0.81      0.82    104440\n",
            "\n",
            "    accuracy                           0.81    198607\n",
            "   macro avg       0.81      0.81      0.81    198607\n",
            "weighted avg       0.81      0.81      0.81    198607\n",
            "\n",
            "\n",
            "\n",
            "              precision    recall  f1-score   support\n",
            "\n",
            "           0       0.79      0.80      0.80     23369\n",
            "           1       0.82      0.81      0.82     26283\n",
            "\n",
            "    accuracy                           0.81     49652\n",
            "   macro avg       0.81      0.81      0.81     49652\n",
            "weighted avg       0.81      0.81      0.81     49652\n",
            "\n"
          ]
        }
      ]
    },
    {
      "cell_type": "markdown",
      "metadata": {
        "id": "ygCrdtw-HaOL"
      },
      "source": [
        "# XGBoost"
      ]
    },
    {
      "cell_type": "code",
      "metadata": {
        "colab": {
          "base_uri": "https://localhost:8080/"
        },
        "id": "NY3CZgWM9ikJ",
        "outputId": "f2b4ba56-745b-48b7-801c-eedd13ffb572"
      },
      "source": [
        "'''TAKES MORE THAN 2 HOURS TO RUN'''\n",
        "# Number of trees\n",
        "n_estimators = [50,80,100]\n",
        "# Maximum depth of trees\n",
        "max_depth = [4,6,12]\n",
        "# Minimum number of samples required to split a node\n",
        "min_samples_split = [50,100,150]\n",
        "# Minimum number of samples required at each leaf node\n",
        "min_samples_leaf = [40,50]\n",
        "# HYperparameter Grid\n",
        "param_dict = {'n_estimators' : n_estimators,\n",
        "              'max_depth' : max_depth,\n",
        "              'min_samples_split' : min_samples_split,\n",
        "              'min_samples_leaf' : min_samples_leaf}\n",
        "clf_xgb = XGBClassifier()\n",
        "\n",
        "xg_grid = RandomizedSearchCV(clf_xgb,param_dict,cv = 5, verbose=2, scoring='roc_auc')\n",
        "xg_grid.fit(X_train,y_train)\n",
        "xgb_optimal_model = xg_grid.best_estimator_\n",
        "\n",
        "xg_class_train_pred = xgb_optimal_model.predict(X_train)\n",
        "xg_class_test_pred = xgb_optimal_model.predict(X_test)"
      ],
      "execution_count": null,
      "outputs": [
        {
          "output_type": "stream",
          "name": "stdout",
          "text": [
            "Fitting 5 folds for each of 10 candidates, totalling 50 fits\n",
            "[CV] n_estimators=80, min_samples_split=50, min_samples_leaf=50, max_depth=4 \n"
          ]
        },
        {
          "output_type": "stream",
          "name": "stderr",
          "text": [
            "[Parallel(n_jobs=1)]: Using backend SequentialBackend with 1 concurrent workers.\n"
          ]
        },
        {
          "output_type": "stream",
          "name": "stdout",
          "text": [
            "[CV]  n_estimators=80, min_samples_split=50, min_samples_leaf=50, max_depth=4, total= 1.6min\n",
            "[CV] n_estimators=80, min_samples_split=50, min_samples_leaf=50, max_depth=4 \n"
          ]
        },
        {
          "output_type": "stream",
          "name": "stderr",
          "text": [
            "[Parallel(n_jobs=1)]: Done   1 out of   1 | elapsed:  1.6min remaining:    0.0s\n"
          ]
        },
        {
          "output_type": "stream",
          "name": "stdout",
          "text": [
            "[CV]  n_estimators=80, min_samples_split=50, min_samples_leaf=50, max_depth=4, total= 1.6min\n",
            "[CV] n_estimators=80, min_samples_split=50, min_samples_leaf=50, max_depth=4 \n",
            "[CV]  n_estimators=80, min_samples_split=50, min_samples_leaf=50, max_depth=4, total= 1.6min\n",
            "[CV] n_estimators=80, min_samples_split=50, min_samples_leaf=50, max_depth=4 \n",
            "[CV]  n_estimators=80, min_samples_split=50, min_samples_leaf=50, max_depth=4, total= 1.6min\n",
            "[CV] n_estimators=80, min_samples_split=50, min_samples_leaf=50, max_depth=4 \n",
            "[CV]  n_estimators=80, min_samples_split=50, min_samples_leaf=50, max_depth=4, total= 1.6min\n",
            "[CV] n_estimators=50, min_samples_split=150, min_samples_leaf=40, max_depth=12 \n",
            "[CV]  n_estimators=50, min_samples_split=150, min_samples_leaf=40, max_depth=12, total= 3.6min\n",
            "[CV] n_estimators=50, min_samples_split=150, min_samples_leaf=40, max_depth=12 \n",
            "[CV]  n_estimators=50, min_samples_split=150, min_samples_leaf=40, max_depth=12, total= 3.5min\n",
            "[CV] n_estimators=50, min_samples_split=150, min_samples_leaf=40, max_depth=12 \n",
            "[CV]  n_estimators=50, min_samples_split=150, min_samples_leaf=40, max_depth=12, total= 3.5min\n",
            "[CV] n_estimators=50, min_samples_split=150, min_samples_leaf=40, max_depth=12 \n",
            "[CV]  n_estimators=50, min_samples_split=150, min_samples_leaf=40, max_depth=12, total= 3.6min\n",
            "[CV] n_estimators=50, min_samples_split=150, min_samples_leaf=40, max_depth=12 \n",
            "[CV]  n_estimators=50, min_samples_split=150, min_samples_leaf=40, max_depth=12, total= 3.5min\n",
            "[CV] n_estimators=100, min_samples_split=150, min_samples_leaf=50, max_depth=4 \n",
            "[CV]  n_estimators=100, min_samples_split=150, min_samples_leaf=50, max_depth=4, total= 2.0min\n",
            "[CV] n_estimators=100, min_samples_split=150, min_samples_leaf=50, max_depth=4 \n",
            "[CV]  n_estimators=100, min_samples_split=150, min_samples_leaf=50, max_depth=4, total= 2.0min\n",
            "[CV] n_estimators=100, min_samples_split=150, min_samples_leaf=50, max_depth=4 \n",
            "[CV]  n_estimators=100, min_samples_split=150, min_samples_leaf=50, max_depth=4, total= 2.0min\n",
            "[CV] n_estimators=100, min_samples_split=150, min_samples_leaf=50, max_depth=4 \n",
            "[CV]  n_estimators=100, min_samples_split=150, min_samples_leaf=50, max_depth=4, total= 2.0min\n",
            "[CV] n_estimators=100, min_samples_split=150, min_samples_leaf=50, max_depth=4 \n",
            "[CV]  n_estimators=100, min_samples_split=150, min_samples_leaf=50, max_depth=4, total= 2.0min\n",
            "[CV] n_estimators=50, min_samples_split=100, min_samples_leaf=50, max_depth=4 \n",
            "[CV]  n_estimators=50, min_samples_split=100, min_samples_leaf=50, max_depth=4, total=  59.7s\n",
            "[CV] n_estimators=50, min_samples_split=100, min_samples_leaf=50, max_depth=4 \n",
            "[CV]  n_estimators=50, min_samples_split=100, min_samples_leaf=50, max_depth=4, total=  59.9s\n",
            "[CV] n_estimators=50, min_samples_split=100, min_samples_leaf=50, max_depth=4 \n",
            "[CV]  n_estimators=50, min_samples_split=100, min_samples_leaf=50, max_depth=4, total=  59.9s\n",
            "[CV] n_estimators=50, min_samples_split=100, min_samples_leaf=50, max_depth=4 \n",
            "[CV]  n_estimators=50, min_samples_split=100, min_samples_leaf=50, max_depth=4, total=  59.7s\n",
            "[CV] n_estimators=50, min_samples_split=100, min_samples_leaf=50, max_depth=4 \n",
            "[CV]  n_estimators=50, min_samples_split=100, min_samples_leaf=50, max_depth=4, total=  59.9s\n",
            "[CV] n_estimators=50, min_samples_split=50, min_samples_leaf=40, max_depth=6 \n",
            "[CV]  n_estimators=50, min_samples_split=50, min_samples_leaf=40, max_depth=6, total= 1.5min\n",
            "[CV] n_estimators=50, min_samples_split=50, min_samples_leaf=40, max_depth=6 \n",
            "[CV]  n_estimators=50, min_samples_split=50, min_samples_leaf=40, max_depth=6, total= 1.5min\n",
            "[CV] n_estimators=50, min_samples_split=50, min_samples_leaf=40, max_depth=6 \n",
            "[CV]  n_estimators=50, min_samples_split=50, min_samples_leaf=40, max_depth=6, total= 1.5min\n",
            "[CV] n_estimators=50, min_samples_split=50, min_samples_leaf=40, max_depth=6 \n",
            "[CV]  n_estimators=50, min_samples_split=50, min_samples_leaf=40, max_depth=6, total= 1.5min\n",
            "[CV] n_estimators=50, min_samples_split=50, min_samples_leaf=40, max_depth=6 \n",
            "[CV]  n_estimators=50, min_samples_split=50, min_samples_leaf=40, max_depth=6, total= 1.5min\n",
            "[CV] n_estimators=50, min_samples_split=100, min_samples_leaf=50, max_depth=12 \n",
            "[CV]  n_estimators=50, min_samples_split=100, min_samples_leaf=50, max_depth=12, total= 3.5min\n",
            "[CV] n_estimators=50, min_samples_split=100, min_samples_leaf=50, max_depth=12 \n",
            "[CV]  n_estimators=50, min_samples_split=100, min_samples_leaf=50, max_depth=12, total= 3.5min\n",
            "[CV] n_estimators=50, min_samples_split=100, min_samples_leaf=50, max_depth=12 \n",
            "[CV]  n_estimators=50, min_samples_split=100, min_samples_leaf=50, max_depth=12, total= 3.5min\n",
            "[CV] n_estimators=50, min_samples_split=100, min_samples_leaf=50, max_depth=12 \n",
            "[CV]  n_estimators=50, min_samples_split=100, min_samples_leaf=50, max_depth=12, total= 3.5min\n",
            "[CV] n_estimators=50, min_samples_split=100, min_samples_leaf=50, max_depth=12 \n",
            "[CV]  n_estimators=50, min_samples_split=100, min_samples_leaf=50, max_depth=12, total= 3.5min\n",
            "[CV] n_estimators=80, min_samples_split=150, min_samples_leaf=40, max_depth=6 \n",
            "[CV]  n_estimators=80, min_samples_split=150, min_samples_leaf=40, max_depth=6, total= 2.3min\n",
            "[CV] n_estimators=80, min_samples_split=150, min_samples_leaf=40, max_depth=6 \n",
            "[CV]  n_estimators=80, min_samples_split=150, min_samples_leaf=40, max_depth=6, total= 2.3min\n",
            "[CV] n_estimators=80, min_samples_split=150, min_samples_leaf=40, max_depth=6 \n",
            "[CV]  n_estimators=80, min_samples_split=150, min_samples_leaf=40, max_depth=6, total= 2.3min\n",
            "[CV] n_estimators=80, min_samples_split=150, min_samples_leaf=40, max_depth=6 \n",
            "[CV]  n_estimators=80, min_samples_split=150, min_samples_leaf=40, max_depth=6, total= 2.3min\n",
            "[CV] n_estimators=80, min_samples_split=150, min_samples_leaf=40, max_depth=6 \n",
            "[CV]  n_estimators=80, min_samples_split=150, min_samples_leaf=40, max_depth=6, total= 2.3min\n",
            "[CV] n_estimators=50, min_samples_split=150, min_samples_leaf=50, max_depth=4 \n",
            "[CV]  n_estimators=50, min_samples_split=150, min_samples_leaf=50, max_depth=4, total=  59.8s\n",
            "[CV] n_estimators=50, min_samples_split=150, min_samples_leaf=50, max_depth=4 \n",
            "[CV]  n_estimators=50, min_samples_split=150, min_samples_leaf=50, max_depth=4, total=  59.6s\n",
            "[CV] n_estimators=50, min_samples_split=150, min_samples_leaf=50, max_depth=4 \n",
            "[CV]  n_estimators=50, min_samples_split=150, min_samples_leaf=50, max_depth=4, total=  59.6s\n",
            "[CV] n_estimators=50, min_samples_split=150, min_samples_leaf=50, max_depth=4 \n",
            "[CV]  n_estimators=50, min_samples_split=150, min_samples_leaf=50, max_depth=4, total=  59.6s\n",
            "[CV] n_estimators=50, min_samples_split=150, min_samples_leaf=50, max_depth=4 \n",
            "[CV]  n_estimators=50, min_samples_split=150, min_samples_leaf=50, max_depth=4, total=  59.5s\n",
            "[CV] n_estimators=50, min_samples_split=50, min_samples_leaf=50, max_depth=12 \n",
            "[CV]  n_estimators=50, min_samples_split=50, min_samples_leaf=50, max_depth=12, total= 3.5min\n",
            "[CV] n_estimators=50, min_samples_split=50, min_samples_leaf=50, max_depth=12 \n",
            "[CV]  n_estimators=50, min_samples_split=50, min_samples_leaf=50, max_depth=12, total= 3.5min\n",
            "[CV] n_estimators=50, min_samples_split=50, min_samples_leaf=50, max_depth=12 \n",
            "[CV]  n_estimators=50, min_samples_split=50, min_samples_leaf=50, max_depth=12, total= 3.5min\n",
            "[CV] n_estimators=50, min_samples_split=50, min_samples_leaf=50, max_depth=12 \n",
            "[CV]  n_estimators=50, min_samples_split=50, min_samples_leaf=50, max_depth=12, total= 3.5min\n",
            "[CV] n_estimators=50, min_samples_split=50, min_samples_leaf=50, max_depth=12 \n",
            "[CV]  n_estimators=50, min_samples_split=50, min_samples_leaf=50, max_depth=12, total= 3.5min\n",
            "[CV] n_estimators=80, min_samples_split=100, min_samples_leaf=50, max_depth=6 \n",
            "[CV]  n_estimators=80, min_samples_split=100, min_samples_leaf=50, max_depth=6, total= 2.3min\n",
            "[CV] n_estimators=80, min_samples_split=100, min_samples_leaf=50, max_depth=6 \n",
            "[CV]  n_estimators=80, min_samples_split=100, min_samples_leaf=50, max_depth=6, total= 2.3min\n",
            "[CV] n_estimators=80, min_samples_split=100, min_samples_leaf=50, max_depth=6 \n",
            "[CV]  n_estimators=80, min_samples_split=100, min_samples_leaf=50, max_depth=6, total= 2.3min\n",
            "[CV] n_estimators=80, min_samples_split=100, min_samples_leaf=50, max_depth=6 \n",
            "[CV]  n_estimators=80, min_samples_split=100, min_samples_leaf=50, max_depth=6, total= 2.3min\n",
            "[CV] n_estimators=80, min_samples_split=100, min_samples_leaf=50, max_depth=6 \n",
            "[CV]  n_estimators=80, min_samples_split=100, min_samples_leaf=50, max_depth=6, total= 2.3min\n"
          ]
        },
        {
          "output_type": "stream",
          "name": "stderr",
          "text": [
            "[Parallel(n_jobs=1)]: Done  50 out of  50 | elapsed: 111.2min finished\n"
          ]
        }
      ]
    },
    {
      "cell_type": "code",
      "metadata": {
        "colab": {
          "base_uri": "https://localhost:8080/"
        },
        "id": "0_Y17Sw9HxTw",
        "outputId": "fc01de4a-a619-4ddd-d655-1a774d5283db"
      },
      "source": [
        "# Print the classification report for train and test\n",
        "print(classification_report(y_train,xg_class_train_pred))\n",
        "print(\"\\n\")\n",
        "print(classification_report(y_test,xg_class_test_pred))"
      ],
      "execution_count": null,
      "outputs": [
        {
          "output_type": "stream",
          "name": "stdout",
          "text": [
            "              precision    recall  f1-score   support\n",
            "\n",
            "           0       0.88      0.83      0.85     94167\n",
            "           1       0.85      0.89      0.87    104440\n",
            "\n",
            "    accuracy                           0.86    198607\n",
            "   macro avg       0.86      0.86      0.86    198607\n",
            "weighted avg       0.86      0.86      0.86    198607\n",
            "\n",
            "\n",
            "\n",
            "              precision    recall  f1-score   support\n",
            "\n",
            "           0       0.80      0.75      0.78     23369\n",
            "           1       0.79      0.84      0.81     26283\n",
            "\n",
            "    accuracy                           0.80     49652\n",
            "   macro avg       0.80      0.79      0.79     49652\n",
            "weighted avg       0.80      0.80      0.80     49652\n",
            "\n"
          ]
        }
      ]
    },
    {
      "cell_type": "markdown",
      "metadata": {
        "id": "157XMwyEUu53"
      },
      "source": [
        "* **We can note that, Logistic Regression Model, has a better F1-score.**\n",
        "* **Moreover, the XGBoost model, can be seen slightly overfitting. This could be a result of potential linearities present in the dataset and of the fact that XGBoost is a data demaninding model. It is a posibility that, the data is simply not expressive enough, for XGBoost model to capture it's details and patterns**\n",
        "# **So we can reject our initial Hypothesis. Logistic Regression will be the model of our choice.**"
      ]
    }
  ]
}